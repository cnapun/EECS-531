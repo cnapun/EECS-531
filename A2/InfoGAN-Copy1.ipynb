{
 "cells": [
  {
   "cell_type": "code",
   "execution_count": 1,
   "metadata": {},
   "outputs": [
    {
     "name": "stderr",
     "output_type": "stream",
     "text": [
      "/usr/local/lib/python3.6/site-packages/h5py/__init__.py:36: FutureWarning: Conversion of the second argument of issubdtype from `float` to `np.floating` is deprecated. In future, it will be treated as `np.float64 == np.dtype(float).type`.\n",
      "  from ._conv import register_converters as _register_converters\n"
     ]
    }
   ],
   "source": [
    "import matplotlib.pyplot as plt\n",
    "import numpy as np\n",
    "import tensorflow as tf\n",
    "from sklearn.datasets import fetch_mldata\n",
    "\n",
    "plt.gray()\n",
    "%matplotlib inline"
   ]
  },
  {
   "cell_type": "code",
   "execution_count": 2,
   "metadata": {
    "collapsed": true
   },
   "outputs": [],
   "source": [
    "mnist = fetch_mldata('MNIST original')\n",
    "x_data = mnist['data'] / 255.0\n",
    "del mnist"
   ]
  },
  {
   "cell_type": "code",
   "execution_count": 3,
   "metadata": {
    "collapsed": true
   },
   "outputs": [],
   "source": [
    "def next_batch(n):\n",
    "    return x_data[np.random.randint(0, len(x_data), size=n)]"
   ]
  },
  {
   "cell_type": "code",
   "execution_count": 100,
   "metadata": {},
   "outputs": [],
   "source": [
    "# momentum = 0.9\n",
    "# def q_net(x, training, reuse=None):\n",
    "#     h = disc_net(x, training, reuse=reuse)\n",
    "#     with tf.variable_scope('q_net'): \n",
    "#         h = tf.layers.dense(h, 128)\n",
    "#         h = tf.nn.leaky_relu(h, 0.1)\n",
    "#         h = tf.layers.batch_normalization(h, training=training, momentum=momentum)\n",
    "#         q_p = tf.layers.dense(h, 14) # gaussian priors, 10x categorical vars\n",
    "#     return tf.nn.softmax(q_p[:, :10]), q_p[:, 10:12], tf.nn.softplus(q_p[:, 12:])\n",
    "\n",
    "# def generator(x, c, training, reuse=None):\n",
    "#     with tf.variable_scope('generator', reuse=reuse):\n",
    "#         xc = tf.concat((x, c), axis=1)\n",
    "#         h = tf.layers.dense(xc, 1024, activation=tf.nn.relu)\n",
    "#         h = tf.layers.batch_normalization(h, training=training, momentum=momentum)\n",
    "#         h = tf.layers.dense(h, 7*7*128)\n",
    "#         h = tf.nn.relu(h)\n",
    "#         h = tf.reshape(h, (-1, 7, 7, 128))\n",
    "#         h = tf.layers.batch_normalization(h, training=training, momentum=momentum)\n",
    "#         h = tf.layers.conv2d_transpose(h, 64, (4,4), strides=(2,2), padding='same')\n",
    "#         h = tf.nn.relu(h)\n",
    "#         h = tf.layers.batch_normalization(h, training=training, momentum=momentum)\n",
    "#         h = tf.layers.conv2d_transpose(h, 1, (4,4), strides=(2,2), padding='same')\n",
    "#         g_prob = tf.nn.sigmoid(h)\n",
    "#     return g_prob\n",
    "\n",
    "# def disc_net(x, training, reuse=None):\n",
    "#     with tf.variable_scope('base_net', reuse=reuse):\n",
    "#         h = tf.layers.conv2d(x, 64, (4,4), strides=(2,2))\n",
    "#         h = tf.nn.leaky_relu(h, 0.1)\n",
    "#         h = tf.layers.conv2d(h, 128, (4,4), strides=(2,2))\n",
    "#         h = tf.nn.leaky_relu(h, 0.1)\n",
    "#         h = tf.layers.batch_normalization(h, training=training, momentum=momentum)\n",
    "#         h = tf.layers.dense(tf.layers.flatten(h), 1024)\n",
    "#         h = tf.nn.leaky_relu(h, 0.1)\n",
    "#         h = tf.layers.batch_normalization(h, training=training, momentum=momentum)\n",
    "#     return h\n",
    "\n",
    "# def discriminator(x, training, reuse=None, reuse_n=None):\n",
    "#     d_h = disc_net(x, training, reuse=reuse_n)\n",
    "#     with tf.variable_scope('disc', reuse=reuse):\n",
    "#         g_prob = tf.layers.dense(d_h, 1, activation=tf.nn.sigmoid)\n",
    "#     return g_prob\n",
    "\n",
    "# def gauss_logli(x, mu, std):\n",
    "#     return tf.reduce_sum(-0.5 * np.log(2*np.pi) - tf.log(std + 1e-8) - 0.5 * (x-mu)**2 / std**2, axis=1)\n",
    "\n",
    "# def log_gauss_other_thing(x):\n",
    "#     return tf.log(tf.reduce_sum(-0.5*x**2, axis=1))"
   ]
  },
  {
   "cell_type": "code",
   "execution_count": 153,
   "metadata": {
    "collapsed": true
   },
   "outputs": [],
   "source": [
    "momentum = 0.9\n",
    "def q_net(x, training, reuse=None):\n",
    "    h = disc_net(x, training, reuse=reuse)\n",
    "    with tf.variable_scope('q_net'): \n",
    "        h = tf.layers.dense(h, 64)\n",
    "        h = tf.nn.leaky_relu(h, 0.1)\n",
    "        h = tf.layers.batch_normalization(h, training=training, momentum=momentum)\n",
    "        q_p = tf.layers.dense(h, 14) # gaussian priors, 10x categorical vars\n",
    "    return tf.nn.softmax(q_p[:, :10]), q_p[:, 10:12], tf.nn.softplus(q_p[:, 12:])\n",
    "\n",
    "def generator(x, c, training, reuse=None):\n",
    "    with tf.variable_scope('generator', reuse=reuse):\n",
    "        xc = tf.concat((x, c), axis=1)\n",
    "        h = tf.layers.dense(xc, 512, activation=tf.nn.relu)\n",
    "        h = tf.layers.batch_normalization(h, training=training, momentum=momentum)\n",
    "        h = tf.layers.dense(h, 7*7*64)\n",
    "        h = tf.nn.relu(h)\n",
    "        h = tf.reshape(h, (-1, 7, 7, 64))\n",
    "        h = tf.layers.batch_normalization(h, training=training, momentum=momentum)\n",
    "        h = tf.layers.conv2d_transpose(h, 32, (4,4), strides=(2,2), padding='same')\n",
    "        h = tf.nn.relu(h)\n",
    "        h = tf.layers.batch_normalization(h, training=training, momentum=momentum)\n",
    "        h = tf.layers.conv2d_transpose(h, 1, (4,4), strides=(2,2), padding='same')\n",
    "        g_prob = tf.nn.sigmoid(h)\n",
    "    return g_prob\n",
    "\n",
    "def disc_net(x, training, reuse=None):\n",
    "    with tf.variable_scope('base_net', reuse=reuse):\n",
    "        h = tf.layers.conv2d(x, 32, (4,4), strides=(2,2))\n",
    "        h = tf.nn.leaky_relu(h, 0.1)\n",
    "        h = tf.layers.conv2d(h, 64, (4,4), strides=(2,2))\n",
    "        h = tf.nn.leaky_relu(h, 0.1)\n",
    "        h = tf.layers.batch_normalization(h, training=training, momentum=momentum)\n",
    "        h = tf.layers.dense(tf.layers.flatten(h), 512)\n",
    "        h = tf.nn.leaky_relu(h, 0.1)\n",
    "        h = tf.layers.batch_normalization(h, training=training, momentum=momentum)\n",
    "    return h\n",
    "\n",
    "def discriminator(x, training, reuse=None, reuse_n=None):\n",
    "    d_h = disc_net(x, training, reuse=reuse_n)\n",
    "    with tf.variable_scope('disc', reuse=reuse):\n",
    "        g_prob = tf.layers.dense(d_h, 1, activation=tf.nn.sigmoid)\n",
    "    return g_prob\n",
    "\n",
    "def gauss_logli(x, mu, std):\n",
    "    return tf.reduce_sum(-0.5 * np.log(2*np.pi) - tf.log(std + 1e-8) - 0.5 * (x-mu)**2 / std**2, axis=1)\n",
    "\n",
    "def log_gauss_other_thing(x):\n",
    "    return tf.log(tf.reduce_sum(-0.5*x**2, axis=1))"
   ]
  },
  {
   "cell_type": "code",
   "execution_count": 157,
   "metadata": {},
   "outputs": [],
   "source": [
    "z_dim = 62"
   ]
  },
  {
   "cell_type": "code",
   "execution_count": 163,
   "metadata": {
    "scrolled": false
   },
   "outputs": [],
   "source": [
    "g = tf.Graph()\n",
    "with g.as_default():\n",
    "    Z_in = tf.placeholder(tf.float32, (None, z_dim))\n",
    "    c_in = tf.placeholder(tf.float32, (None, 12))\n",
    "    X_in = tf.placeholder(tf.float32, (None, 28, 28, 1))\n",
    "    is_training = tf.placeholder_with_default(False, ())\n",
    "    \n",
    "    g_sample = generator(Z_in, c_in, is_training)\n",
    "    d_fake = discriminator(g_sample, is_training)\n",
    "    d_real = discriminator(X_in, is_training, True, True)\n",
    "    qc_x, mus, sds = q_net(g_sample, is_training, True)\n",
    "    \n",
    "    d_loss = -tf.reduce_mean(tf.log(d_real + 1e-8) + tf.log(1-d_fake + 1e-8))\n",
    "    g_loss = -tf.reduce_mean(tf.log(d_fake + 1e-8))\n",
    "    \n",
    "    q_ce = -tf.reduce_mean(tf.reduce_sum(tf.log(qc_x+1e-8) * c_in[:, :10], axis=1))\n",
    "    q_ent = -tf.reduce_mean(tf.reduce_sum(tf.log(c_in[:, :10]+1e-8) * c_in[:, :10], axis=1))\n",
    "\n",
    "    qgce = -tf.reduce_mean(gauss_logli(c_in[:, 10:], mus, sds))\n",
    "#     qgp = -tf.reduce_mean(log_gauss_other_thing(c_in))\n",
    "    \n",
    "    q_lb = q_ce + q_ent + qgce\n",
    "    \n",
    "    \n",
    "    base_net_vars = g.get_collection(tf.GraphKeys.TRAINABLE_VARIABLES, 'base_net')\n",
    "    q_vars = g.get_collection(tf.GraphKeys.TRAINABLE_VARIABLES, 'generator') \\\n",
    "        + base_net_vars\\\n",
    "        + g.get_collection(tf.GraphKeys.TRAINABLE_VARIABLES, 'q_net')\n",
    "    with tf.control_dependencies(tf.get_collection(tf.GraphKeys.UPDATE_OPS)):\n",
    "        d_step = tf.train.AdamOptimizer(2e-4, beta1=0.5).minimize(\n",
    "            d_loss, var_list=g.get_collection(tf.GraphKeys.TRAINABLE_VARIABLES, 'disc') + base_net_vars)\n",
    "        g_step = tf.train.AdamOptimizer(1e-3, beta1=0.5).minimize(\n",
    "            g_loss, var_list=g.get_collection(tf.GraphKeys.TRAINABLE_VARIABLES, 'generator'))\n",
    "        q_step = tf.train.AdamOptimizer(2e-4, beta1=0.5).minimize(q_lb, var_list=q_vars)"
   ]
  },
  {
   "cell_type": "code",
   "execution_count": 168,
   "metadata": {
    "collapsed": true
   },
   "outputs": [],
   "source": [
    "try:\n",
    "    while True:\n",
    "        tf.get_default_session().close()\n",
    "except: pass\n",
    "sess = tf.InteractiveSession(graph=g)\n",
    "sess.run(tf.global_variables_initializer())"
   ]
  },
  {
   "cell_type": "code",
   "execution_count": 169,
   "metadata": {
    "collapsed": true
   },
   "outputs": [],
   "source": [
    "bs = 32"
   ]
  },
  {
   "cell_type": "code",
   "execution_count": 170,
   "metadata": {
    "collapsed": true
   },
   "outputs": [],
   "source": [
    "def sample_z(*shape):\n",
    "    return np.random.uniform(-1, 1.0, shape)\n",
    "def sample_c(n):\n",
    "    return np.append(np.random.multinomial(1, [0.1]*10, size=n), sample_z(n, 2), axis=1)"
   ]
  },
  {
   "cell_type": "code",
   "execution_count": 171,
   "metadata": {
    "scrolled": false
   },
   "outputs": [
    {
     "name": "stdout",
     "output_type": "stream",
     "text": [
      "Iter 0, Discriminator loss: 1.83384, Generator loss: 0.73969\n",
      "Iter 100, Discriminator loss: 1.48812, Generator loss: 0.70835\n",
      "Iter 200, Discriminator loss: 1.45864, Generator loss: 0.69970\n",
      "Iter 300, Discriminator loss: 1.43683, Generator loss: 0.70422\n",
      "Iter 400, Discriminator loss: 1.42155, Generator loss: 0.70122\n",
      "Iter 500, Discriminator loss: 1.40739, Generator loss: 0.69903\n",
      "Iter 600, Discriminator loss: 1.41025, Generator loss: 0.69996\n",
      "Iter 700, Discriminator loss: 1.41257, Generator loss: 0.69916\n",
      "Iter 800, Discriminator loss: 1.40325, Generator loss: 0.69710\n",
      "Iter 900, Discriminator loss: 1.40389, Generator loss: 0.69773\n",
      "Iter 1000, Discriminator loss: 1.39469, Generator loss: 0.69594\n",
      "Iter 1100, Discriminator loss: 1.39985, Generator loss: 0.69591\n",
      "Iter 1200, Discriminator loss: 1.39496, Generator loss: 0.69561\n",
      "Iter 1300, Discriminator loss: 1.39550, Generator loss: 0.69500\n",
      "Iter 1400, Discriminator loss: 1.39165, Generator loss: 0.69530\n",
      "Iter 1500, Discriminator loss: 1.39111, Generator loss: 0.69441\n",
      "Iter 1600, Discriminator loss: 1.38981, Generator loss: 0.69450\n",
      "Iter 1700, Discriminator loss: 1.39392, Generator loss: 0.69468\n",
      "Iter 1800, Discriminator loss: 1.39044, Generator loss: 0.69459\n",
      "Iter 1900, Discriminator loss: 1.39335, Generator loss: 0.69411\n",
      "Iter 2000, Discriminator loss: 1.38951, Generator loss: 0.69346\n",
      "Iter 2100, Discriminator loss: 1.39143, Generator loss: 0.69379\n",
      "Iter 2200, Discriminator loss: 1.38932, Generator loss: 0.69364\n",
      "Iter 2300, Discriminator loss: 1.38930, Generator loss: 0.69381\n",
      "Iter 2400, Discriminator loss: 1.38775, Generator loss: 0.69355\n",
      "Iter 2500, Discriminator loss: 1.38834, Generator loss: 0.69374\n",
      "Iter 2600, Discriminator loss: 1.38876, Generator loss: 0.69343\n",
      "Iter 2700, Discriminator loss: 1.38917, Generator loss: 0.69364\n",
      "Iter 2800, Discriminator loss: 1.38756, Generator loss: 0.69345\n",
      "Iter 2900, Discriminator loss: 1.38874, Generator loss: 0.69343\n",
      "Iter 3000, Discriminator loss: 1.38964, Generator loss: 0.69368\n",
      "Iter 3100, Discriminator loss: 1.38829, Generator loss: 0.69364\n",
      "Iter 3200, Discriminator loss: 1.38840, Generator loss: 0.69344\n",
      "Iter 3300, Discriminator loss: 1.38775, Generator loss: 0.69350\n",
      "Iter 3400, Discriminator loss: 1.38798, Generator loss: 0.69346\n",
      "Iter 3500, Discriminator loss: 1.38739, Generator loss: 0.69332\n",
      "Iter 3600, Discriminator loss: 1.38767, Generator loss: 0.69344\n",
      "Iter 3700, Discriminator loss: 1.38711, Generator loss: 0.69334\n",
      "Iter 3800, Discriminator loss: 1.38814, Generator loss: 0.69378\n",
      "Iter 3900, Discriminator loss: 1.38788, Generator loss: 0.69346\n",
      "Iter 4000, Discriminator loss: 1.38744, Generator loss: 0.69333\n",
      "Iter 4100, Discriminator loss: 1.38732, Generator loss: 0.69330\n",
      "Iter 4200, Discriminator loss: 1.38741, Generator loss: 0.69326\n",
      "Iter 4300, Discriminator loss: 1.38783, Generator loss: 0.69344\n",
      "Iter 4400, Discriminator loss: 1.38724, Generator loss: 0.69359\n",
      "Iter 4500, Discriminator loss: 1.38804, Generator loss: 0.69334\n",
      "Iter 4600, Discriminator loss: 1.38690, Generator loss: 0.69329\n",
      "Iter 4700, Discriminator loss: 1.38723, Generator loss: 0.69337\n",
      "Iter 4800, Discriminator loss: 1.38681, Generator loss: 0.69345\n",
      "Iter 4900, Discriminator loss: 1.38703, Generator loss: 0.69332\n",
      "Iter 5000, Discriminator loss: 1.38744, Generator loss: 0.69370\n",
      "Iter 5100, Discriminator loss: 1.38708, Generator loss: 0.69344\n",
      "Iter 5200, Discriminator loss: 1.38699, Generator loss: 0.69321\n",
      "Iter 5300, Discriminator loss: 1.38730, Generator loss: 0.69324\n",
      "Iter 5400, Discriminator loss: 1.38788, Generator loss: 0.69342\n",
      "Iter 5500, Discriminator loss: 1.38751, Generator loss: 0.69295\n",
      "Iter 5600, Discriminator loss: 1.38740, Generator loss: 0.69328\n",
      "Iter 5700, Discriminator loss: 1.38710, Generator loss: 0.69321\n",
      "Iter 5800, Discriminator loss: 1.38690, Generator loss: 0.69417\n",
      "Iter 5900, Discriminator loss: 1.38684, Generator loss: 0.69318\n",
      "Iter 6000, Discriminator loss: 1.38669, Generator loss: 0.69346\n",
      "Iter 6100, Discriminator loss: 1.38691, Generator loss: 0.69333\n",
      "Iter 6200, Discriminator loss: 1.38704, Generator loss: 0.69342\n",
      "Iter 6300, Discriminator loss: 1.38667, Generator loss: 0.69332\n",
      "Iter 6400, Discriminator loss: 1.38672, Generator loss: 0.69334\n",
      "Iter 6500, Discriminator loss: 1.38700, Generator loss: 0.69320\n",
      "Iter 6600, Discriminator loss: 1.38800, Generator loss: 0.69285\n",
      "Iter 6700, Discriminator loss: 1.38673, Generator loss: 0.69318\n",
      "Iter 6800, Discriminator loss: 1.38669, Generator loss: 0.69306\n",
      "Iter 6900, Discriminator loss: 1.38658, Generator loss: 0.69325\n",
      "Iter 7000, Discriminator loss: 1.38714, Generator loss: 0.69307\n",
      "Iter 7100, Discriminator loss: 1.38662, Generator loss: 0.69302\n",
      "Iter 7200, Discriminator loss: 1.38648, Generator loss: 0.69332\n",
      "Iter 7300, Discriminator loss: 1.38648, Generator loss: 0.69291\n",
      "Iter 7400, Discriminator loss: 1.38688, Generator loss: 0.69316\n",
      "Iter 7500, Discriminator loss: 1.38731, Generator loss: 0.69279\n",
      "Iter 7600, Discriminator loss: 1.38658, Generator loss: 0.69295\n",
      "Iter 7700, Discriminator loss: 1.38663, Generator loss: 0.69318\n",
      "Iter 7800, Discriminator loss: 1.38666, Generator loss: 0.69330\n",
      "Iter 7900, Discriminator loss: 1.38645, Generator loss: 0.69346\n",
      "Iter 8000, Discriminator loss: 1.38685, Generator loss: 0.69303\n",
      "Iter 8100, Discriminator loss: 1.38655, Generator loss: 0.69311\n",
      "Iter 8200, Discriminator loss: 1.38649, Generator loss: 0.69314\n",
      "Iter 8300, Discriminator loss: 1.38731, Generator loss: 0.69290\n",
      "Iter 8400, Discriminator loss: 1.38664, Generator loss: 0.69328\n",
      "Iter 8500, Discriminator loss: 1.38647, Generator loss: 0.69300\n",
      "Iter 8600, Discriminator loss: 1.38643, Generator loss: 0.69327\n",
      "Iter 8700, Discriminator loss: 1.38641, Generator loss: 0.69348\n",
      "Iter 8800, Discriminator loss: 1.38681, Generator loss: 0.69302\n",
      "Iter 8900, Discriminator loss: 1.38658, Generator loss: 0.69288\n",
      "Iter 9000, Discriminator loss: 1.38649, Generator loss: 0.69320\n",
      "Iter 9100, Discriminator loss: 1.38703, Generator loss: 0.69309\n",
      "Iter 9200, Discriminator loss: 1.38664, Generator loss: 0.69325\n",
      "Iter 9300, Discriminator loss: 1.38654, Generator loss: 0.69296\n",
      "Iter 9400, Discriminator loss: 1.38654, Generator loss: 0.69334\n",
      "Iter 9500, Discriminator loss: 1.38636, Generator loss: 0.69320\n",
      "Iter 9600, Discriminator loss: 1.38641, Generator loss: 0.69341\n",
      "Iter 9700, Discriminator loss: 1.38649, Generator loss: 0.69301\n",
      "Iter 9800, Discriminator loss: 1.38644, Generator loss: 0.69328\n",
      "Iter 9900, Discriminator loss: 1.38639, Generator loss: 0.69310\n",
      "Iter 10000, Discriminator loss: 1.38643, Generator loss: 0.69342\n",
      "Iter 10100, Discriminator loss: 1.38652, Generator loss: 0.69317\n"
     ]
    },
    {
     "ename": "KeyboardInterrupt",
     "evalue": "",
     "output_type": "error",
     "traceback": [
      "\u001b[0;31m---------------------------------------------------------------------------\u001b[0m",
      "\u001b[0;31mKeyboardInterrupt\u001b[0m                         Traceback (most recent call last)",
      "\u001b[0;32m<ipython-input-171-0dcae19d85fc>\u001b[0m in \u001b[0;36m<module>\u001b[0;34m()\u001b[0m\n\u001b[1;32m     25\u001b[0m     \u001b[0m_\u001b[0m\u001b[0;34m,\u001b[0m \u001b[0mgl\u001b[0m \u001b[0;34m=\u001b[0m \u001b[0msess\u001b[0m\u001b[0;34m.\u001b[0m\u001b[0mrun\u001b[0m\u001b[0;34m(\u001b[0m\u001b[0;34m[\u001b[0m\u001b[0mg_step\u001b[0m\u001b[0;34m,\u001b[0m \u001b[0mg_loss\u001b[0m\u001b[0;34m]\u001b[0m\u001b[0;34m,\u001b[0m \u001b[0mfeed_dict\u001b[0m\u001b[0;34m=\u001b[0m\u001b[0;34m{\u001b[0m\u001b[0mX_in\u001b[0m\u001b[0;34m:\u001b[0m \u001b[0mxb\u001b[0m\u001b[0;34m,\u001b[0m \u001b[0mZ_in\u001b[0m\u001b[0;34m:\u001b[0m \u001b[0mz_\u001b[0m\u001b[0;34m,\u001b[0m \u001b[0mc_in\u001b[0m\u001b[0;34m:\u001b[0m \u001b[0mc_\u001b[0m\u001b[0;34m,\u001b[0m \u001b[0mis_training\u001b[0m\u001b[0;34m:\u001b[0m\u001b[0;32mTrue\u001b[0m\u001b[0;34m}\u001b[0m\u001b[0;34m)\u001b[0m\u001b[0;34m\u001b[0m\u001b[0m\n\u001b[1;32m     26\u001b[0m \u001b[0;34m\u001b[0m\u001b[0m\n\u001b[0;32m---> 27\u001b[0;31m     \u001b[0msess\u001b[0m\u001b[0;34m.\u001b[0m\u001b[0mrun\u001b[0m\u001b[0;34m(\u001b[0m\u001b[0;34m[\u001b[0m\u001b[0mq_step\u001b[0m\u001b[0;34m]\u001b[0m\u001b[0;34m,\u001b[0m \u001b[0mfeed_dict\u001b[0m\u001b[0;34m=\u001b[0m\u001b[0;34m{\u001b[0m\u001b[0mX_in\u001b[0m\u001b[0;34m:\u001b[0m \u001b[0mxb\u001b[0m\u001b[0;34m,\u001b[0m \u001b[0mZ_in\u001b[0m\u001b[0;34m:\u001b[0m \u001b[0mz_\u001b[0m\u001b[0;34m,\u001b[0m \u001b[0mc_in\u001b[0m\u001b[0;34m:\u001b[0m \u001b[0mc_\u001b[0m\u001b[0;34m,\u001b[0m \u001b[0mis_training\u001b[0m\u001b[0;34m:\u001b[0m\u001b[0;32mTrue\u001b[0m\u001b[0;34m}\u001b[0m\u001b[0;34m)\u001b[0m\u001b[0;34m\u001b[0m\u001b[0m\n\u001b[0m\u001b[1;32m     28\u001b[0m     \u001b[0mdls\u001b[0m\u001b[0;34m.\u001b[0m\u001b[0mappend\u001b[0m\u001b[0;34m(\u001b[0m\u001b[0mdl\u001b[0m\u001b[0;34m)\u001b[0m\u001b[0;34m\u001b[0m\u001b[0m\n\u001b[1;32m     29\u001b[0m     \u001b[0mgls\u001b[0m\u001b[0;34m.\u001b[0m\u001b[0mappend\u001b[0m\u001b[0;34m(\u001b[0m\u001b[0mgl\u001b[0m\u001b[0;34m)\u001b[0m\u001b[0;34m\u001b[0m\u001b[0m\n",
      "\u001b[0;32m/usr/local/lib/python3.6/site-packages/tensorflow/python/client/session.py\u001b[0m in \u001b[0;36mrun\u001b[0;34m(self, fetches, feed_dict, options, run_metadata)\u001b[0m\n\u001b[1;32m    893\u001b[0m     \u001b[0;32mtry\u001b[0m\u001b[0;34m:\u001b[0m\u001b[0;34m\u001b[0m\u001b[0m\n\u001b[1;32m    894\u001b[0m       result = self._run(None, fetches, feed_dict, options_ptr,\n\u001b[0;32m--> 895\u001b[0;31m                          run_metadata_ptr)\n\u001b[0m\u001b[1;32m    896\u001b[0m       \u001b[0;32mif\u001b[0m \u001b[0mrun_metadata\u001b[0m\u001b[0;34m:\u001b[0m\u001b[0;34m\u001b[0m\u001b[0m\n\u001b[1;32m    897\u001b[0m         \u001b[0mproto_data\u001b[0m \u001b[0;34m=\u001b[0m \u001b[0mtf_session\u001b[0m\u001b[0;34m.\u001b[0m\u001b[0mTF_GetBuffer\u001b[0m\u001b[0;34m(\u001b[0m\u001b[0mrun_metadata_ptr\u001b[0m\u001b[0;34m)\u001b[0m\u001b[0;34m\u001b[0m\u001b[0m\n",
      "\u001b[0;32m/usr/local/lib/python3.6/site-packages/tensorflow/python/client/session.py\u001b[0m in \u001b[0;36m_run\u001b[0;34m(self, handle, fetches, feed_dict, options, run_metadata)\u001b[0m\n\u001b[1;32m   1126\u001b[0m     \u001b[0;32mif\u001b[0m \u001b[0mfinal_fetches\u001b[0m \u001b[0;32mor\u001b[0m \u001b[0mfinal_targets\u001b[0m \u001b[0;32mor\u001b[0m \u001b[0;34m(\u001b[0m\u001b[0mhandle\u001b[0m \u001b[0;32mand\u001b[0m \u001b[0mfeed_dict_tensor\u001b[0m\u001b[0;34m)\u001b[0m\u001b[0;34m:\u001b[0m\u001b[0;34m\u001b[0m\u001b[0m\n\u001b[1;32m   1127\u001b[0m       results = self._do_run(handle, final_targets, final_fetches,\n\u001b[0;32m-> 1128\u001b[0;31m                              feed_dict_tensor, options, run_metadata)\n\u001b[0m\u001b[1;32m   1129\u001b[0m     \u001b[0;32melse\u001b[0m\u001b[0;34m:\u001b[0m\u001b[0;34m\u001b[0m\u001b[0m\n\u001b[1;32m   1130\u001b[0m       \u001b[0mresults\u001b[0m \u001b[0;34m=\u001b[0m \u001b[0;34m[\u001b[0m\u001b[0;34m]\u001b[0m\u001b[0;34m\u001b[0m\u001b[0m\n",
      "\u001b[0;32m/usr/local/lib/python3.6/site-packages/tensorflow/python/client/session.py\u001b[0m in \u001b[0;36m_do_run\u001b[0;34m(self, handle, target_list, fetch_list, feed_dict, options, run_metadata)\u001b[0m\n\u001b[1;32m   1342\u001b[0m     \u001b[0;32mif\u001b[0m \u001b[0mhandle\u001b[0m \u001b[0;32mis\u001b[0m \u001b[0;32mNone\u001b[0m\u001b[0;34m:\u001b[0m\u001b[0;34m\u001b[0m\u001b[0m\n\u001b[1;32m   1343\u001b[0m       return self._do_call(_run_fn, self._session, feeds, fetches, targets,\n\u001b[0;32m-> 1344\u001b[0;31m                            options, run_metadata)\n\u001b[0m\u001b[1;32m   1345\u001b[0m     \u001b[0;32melse\u001b[0m\u001b[0;34m:\u001b[0m\u001b[0;34m\u001b[0m\u001b[0m\n\u001b[1;32m   1346\u001b[0m       \u001b[0;32mreturn\u001b[0m \u001b[0mself\u001b[0m\u001b[0;34m.\u001b[0m\u001b[0m_do_call\u001b[0m\u001b[0;34m(\u001b[0m\u001b[0m_prun_fn\u001b[0m\u001b[0;34m,\u001b[0m \u001b[0mself\u001b[0m\u001b[0;34m.\u001b[0m\u001b[0m_session\u001b[0m\u001b[0;34m,\u001b[0m \u001b[0mhandle\u001b[0m\u001b[0;34m,\u001b[0m \u001b[0mfeeds\u001b[0m\u001b[0;34m,\u001b[0m \u001b[0mfetches\u001b[0m\u001b[0;34m)\u001b[0m\u001b[0;34m\u001b[0m\u001b[0m\n",
      "\u001b[0;32m/usr/local/lib/python3.6/site-packages/tensorflow/python/client/session.py\u001b[0m in \u001b[0;36m_do_call\u001b[0;34m(self, fn, *args)\u001b[0m\n\u001b[1;32m   1348\u001b[0m   \u001b[0;32mdef\u001b[0m \u001b[0m_do_call\u001b[0m\u001b[0;34m(\u001b[0m\u001b[0mself\u001b[0m\u001b[0;34m,\u001b[0m \u001b[0mfn\u001b[0m\u001b[0;34m,\u001b[0m \u001b[0;34m*\u001b[0m\u001b[0margs\u001b[0m\u001b[0;34m)\u001b[0m\u001b[0;34m:\u001b[0m\u001b[0;34m\u001b[0m\u001b[0m\n\u001b[1;32m   1349\u001b[0m     \u001b[0;32mtry\u001b[0m\u001b[0;34m:\u001b[0m\u001b[0;34m\u001b[0m\u001b[0m\n\u001b[0;32m-> 1350\u001b[0;31m       \u001b[0;32mreturn\u001b[0m \u001b[0mfn\u001b[0m\u001b[0;34m(\u001b[0m\u001b[0;34m*\u001b[0m\u001b[0margs\u001b[0m\u001b[0;34m)\u001b[0m\u001b[0;34m\u001b[0m\u001b[0m\n\u001b[0m\u001b[1;32m   1351\u001b[0m     \u001b[0;32mexcept\u001b[0m \u001b[0merrors\u001b[0m\u001b[0;34m.\u001b[0m\u001b[0mOpError\u001b[0m \u001b[0;32mas\u001b[0m \u001b[0me\u001b[0m\u001b[0;34m:\u001b[0m\u001b[0;34m\u001b[0m\u001b[0m\n\u001b[1;32m   1352\u001b[0m       \u001b[0mmessage\u001b[0m \u001b[0;34m=\u001b[0m \u001b[0mcompat\u001b[0m\u001b[0;34m.\u001b[0m\u001b[0mas_text\u001b[0m\u001b[0;34m(\u001b[0m\u001b[0me\u001b[0m\u001b[0;34m.\u001b[0m\u001b[0mmessage\u001b[0m\u001b[0;34m)\u001b[0m\u001b[0;34m\u001b[0m\u001b[0m\n",
      "\u001b[0;32m/usr/local/lib/python3.6/site-packages/tensorflow/python/client/session.py\u001b[0m in \u001b[0;36m_run_fn\u001b[0;34m(session, feed_dict, fetch_list, target_list, options, run_metadata)\u001b[0m\n\u001b[1;32m   1327\u001b[0m           return tf_session.TF_Run(session, options,\n\u001b[1;32m   1328\u001b[0m                                    \u001b[0mfeed_dict\u001b[0m\u001b[0;34m,\u001b[0m \u001b[0mfetch_list\u001b[0m\u001b[0;34m,\u001b[0m \u001b[0mtarget_list\u001b[0m\u001b[0;34m,\u001b[0m\u001b[0;34m\u001b[0m\u001b[0m\n\u001b[0;32m-> 1329\u001b[0;31m                                    status, run_metadata)\n\u001b[0m\u001b[1;32m   1330\u001b[0m \u001b[0;34m\u001b[0m\u001b[0m\n\u001b[1;32m   1331\u001b[0m     \u001b[0;32mdef\u001b[0m \u001b[0m_prun_fn\u001b[0m\u001b[0;34m(\u001b[0m\u001b[0msession\u001b[0m\u001b[0;34m,\u001b[0m \u001b[0mhandle\u001b[0m\u001b[0;34m,\u001b[0m \u001b[0mfeed_dict\u001b[0m\u001b[0;34m,\u001b[0m \u001b[0mfetch_list\u001b[0m\u001b[0;34m)\u001b[0m\u001b[0;34m:\u001b[0m\u001b[0;34m\u001b[0m\u001b[0m\n",
      "\u001b[0;31mKeyboardInterrupt\u001b[0m: "
     ]
    }
   ],
   "source": [
    "dls = []\n",
    "gls = []\n",
    "save_every=200\n",
    "N1 = 4\n",
    "np.random.seed(10918283)\n",
    "ref_c = sample_c(N1**2)\n",
    "ref_z = sample_z(N1**2, z_dim)\n",
    "for iteration in range(len(dls), 100000):\n",
    "    if iteration % save_every == 0:\n",
    "        ims = sess.run(g_sample, feed_dict={Z_in: ref_z, c_in: ref_c}).reshape(-1, 28, 28)\n",
    "        fig = plt.figure(figsize=(16, 16))\n",
    "        for i in range(N1*N1):\n",
    "            ax = fig.add_subplot(N1, N1, i+1)\n",
    "            ax.imshow(ims[i])\n",
    "            ax.axis('off')\n",
    "        fig.savefig('/Users/nikil/Downloads/out/%d.png'%(iteration//save_every))\n",
    "        plt.close()\n",
    "    xb = next_batch(bs).reshape(-1, 28, 28, 1)\n",
    "    z_ = sample_z(bs, z_dim)\n",
    "    c_ = sample_c(bs)\n",
    "    _, dl = sess.run([d_step, d_loss], feed_dict={X_in: xb, Z_in: z_, c_in: c_, is_training:True})\n",
    "    \n",
    "#     z_ = sample_z(bs, z_dim)\n",
    "#     c_ = sample_c(bs)\n",
    "    _, gl = sess.run([g_step, g_loss], feed_dict={X_in: xb, Z_in: z_, c_in: c_, is_training:True})\n",
    "    \n",
    "    sess.run([q_step], feed_dict={X_in: xb, Z_in: z_, c_in: c_, is_training:True})\n",
    "    dls.append(dl)\n",
    "    gls.append(gl)\n",
    "    if iteration % 100 == 0:\n",
    "        print(f'Iter {iteration}, Discriminator loss: {dl:.5f}, Generator loss: {gl:.5f}')"
   ]
  },
  {
   "cell_type": "code",
   "execution_count": 69,
   "metadata": {},
   "outputs": [
    {
     "data": {
      "image/png": "[encoded data removed]",
      "text/plain": [
       "<matplotlib.figure.Figure at 0x11f751a58>"
      ]
     },
     "metadata": {},
     "output_type": "display_data"
    }
   ],
   "source": [
    "zs = sample_z(11, z_dim)\n",
    "zs = np.zeros((11, z_dim))\n",
    "cs = np.zeros((11, 12))\n",
    "cs[:, 0] = 1\n",
    "cs[:, -1] = np.linspace(-2, 2, 11)\n",
    "fig = plt.figure(figsize=(16, 16))\n",
    "ims = sess.run(g_sample, feed_dict={Z_in: zs, c_in: cs}).reshape(-1, 28, 28)\n",
    "for i in range(11):\n",
    "    ax = plt.subplot(4, 4, i+1)\n",
    "    ax.imshow(ims[i])\n",
    "    ax.axis('off')"
   ]
  },
  {
   "cell_type": "code",
   "execution_count": 67,
   "metadata": {},
   "outputs": [
    {
     "data": {
      "image/png": "[encoded data removed]",
      "text/plain": [
       "<matplotlib.figure.Figure at 0x120429e10>"
      ]
     },
     "metadata": {},
     "output_type": "display_data"
    }
   ],
   "source": [
    "N1 = 4\n",
    "fig = plt.figure(figsize=(16, 16))\n",
    "z_ = sample_z(N1**2, z_dim)\n",
    "c_ = sample_c(N1**2)\n",
    "ims = sess.run(g_sample, feed_dict={Z_in: z_, c_in: c_}).reshape(-1, 28, 28)\n",
    "for i in range(N1*N1):\n",
    "    ax = fig.add_subplot(N1, N1, i+1)\n",
    "    ax.imshow(ims[i])\n",
    "    ax.axis('off')"
   ]
  },
  {
   "cell_type": "code",
   "execution_count": null,
   "metadata": {
    "collapsed": true
   },
   "outputs": [],
   "source": []
  }
 ],
 "metadata": {
  "kernelspec": {
   "display_name": "Python 3",
   "language": "python",
   "name": "python3"
  },
  "language_info": {
   "codemirror_mode": {
    "name": "ipython",
    "version": 3
   },
   "file_extension": ".py",
   "mimetype": "text/x-python",
   "name": "python",
   "nbconvert_exporter": "python",
   "pygments_lexer": "ipython3",
   "version": "3.6.3"
  }
 },
 "nbformat": 4,
 "nbformat_minor": 2
}
