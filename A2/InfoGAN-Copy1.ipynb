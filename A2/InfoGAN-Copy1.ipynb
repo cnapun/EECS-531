{
 "cells": [
  {
   "cell_type": "code",
   "execution_count": 2,
   "metadata": {},
   "outputs": [],
   "source": [
    "import matplotlib.pyplot as plt\n",
    "import numpy as np\n",
    "import tensorflow as tf\n",
    "from sklearn.datasets import fetch_mldata\n",
    "\n",
    "plt.gray()\n",
    "%matplotlib inline"
   ]
  },
  {
   "cell_type": "code",
   "execution_count": 3,
   "metadata": {},
   "outputs": [],
   "source": [
    "mnist = fetch_mldata('MNIST original')\n",
    "x_data = mnist['data'] / 255.0\n",
    "del mnist"
   ]
  },
  {
   "cell_type": "code",
   "execution_count": 4,
   "metadata": {},
   "outputs": [],
   "source": [
    "def next_batch(n):\n",
    "    return x_data[np.random.randint(0, len(x_data), size=n)]"
   ]
  },
  {
   "cell_type": "code",
   "execution_count": null,
   "metadata": {},
   "outputs": [],
   "source": []
  },
  {
   "cell_type": "code",
   "execution_count": 127,
   "metadata": {},
   "outputs": [],
   "source": [
    "def q_net(x, reuse=None):\n",
    "    h = disc_net(x, reuse=reuse)\n",
    "    with tf.variable_scope('q_net'): \n",
    "#         h = tf.layers.dense(x, 128)\n",
    "        h = tf.nn.relu(h)\n",
    "\n",
    "        q_p = tf.layers.dense(h, 12) # gaussian priors, 10x categorical vars\n",
    "    return tf.nn.softmax(q_p[:, :10]), q_p[:, 10:11], tf.nn.softplus(q_p[:, 11:])\n",
    "\n",
    "def generator(x, c, reuse=None):\n",
    "    with tf.variable_scope('generator', reuse=reuse):\n",
    "        h = tf.concat((x, c), axis=1)\n",
    "        h = tf.layers.dense(h, 7*7*10, activation=tf.nn.relu)\n",
    "        h = tf.layers.conv2d_transpose(tf.reshape(h, (tf.shape(h)[0], 7, 7, 10)), 64, (3,3), strides=(2,2), padding='same')\n",
    "        h = tf.nn.relu(h)\n",
    "        h = tf.layers.conv2d_transpose(h, 1, (3,3), strides=(2,2), padding='same')\n",
    "    return tf.nn.sigmoid(tf.layers.flatten(h))\n",
    "def disc_net(x, reuse=None):\n",
    "    with tf.variable_scope('base_net', reuse=reuse):\n",
    "        h = tf.layers.dense(x, 128, activation=tf.nn.relu)\n",
    "    return h\n",
    "def discriminator(x, reuse=None, reuse_n=None):\n",
    "    h = disc_net(x, reuse=reuse_n)\n",
    "    with tf.variable_scope('disc', reuse=reuse):\n",
    "        h = tf.layers.dense(h, 1, activation=tf.nn.sigmoid)\n",
    "    return h\n",
    "\n",
    "def gauss_logli(x, mu, std):\n",
    "    return tf.reduce_sum(-0.5 * np.log(2*np.pi) - tf.log(std + 1e-8) - 0.5 * (x-mu)**2 / std**2, axis=1)\n",
    "\n",
    "def log_gauss_other_thing(x):\n",
    "    return tf.log(tf.reduce_sum(-0.5*x**2, axis=1))"
   ]
  },
  {
   "cell_type": "code",
   "execution_count": 128,
   "metadata": {},
   "outputs": [],
   "source": [
    "z_dim = 20"
   ]
  },
  {
   "cell_type": "code",
   "execution_count": 129,
   "metadata": {
    "scrolled": false
   },
   "outputs": [],
   "source": [
    "g = tf.Graph()\n",
    "with g.as_default():\n",
    "    tf.set_random_seed(1821431)\n",
    "    Z_in = tf.placeholder(tf.float32, (None, z_dim))\n",
    "    c_in = tf.placeholder(tf.float32, (None, 11))\n",
    "    X_in = tf.placeholder(tf.float32, (None, 28 * 28))\n",
    "    \n",
    "    g_sample = generator(Z_in, c_in)\n",
    "    d_fake = discriminator(g_sample)\n",
    "    d_real = discriminator(X_in, True, True)\n",
    "    qc_x, mus, sds = q_net(g_sample, True)\n",
    "    \n",
    "    d_loss = -tf.reduce_mean(tf.log(d_real + 1e-8) + tf.log(1-d_fake + 1e-8))\n",
    "    g_loss = -tf.reduce_mean(tf.log(d_fake + 1e-8))\n",
    "    \n",
    "    q_ce = -tf.reduce_mean(tf.reduce_sum(tf.log(qc_x+1e-8) * c_in[:, :10], axis=1))\n",
    "    q_ent = -tf.reduce_mean(tf.reduce_sum(tf.log(c_in[:, :10]+1e-8) * c_in[:, :10], axis=1))\n",
    "\n",
    "    qgce = -tf.reduce_mean(gauss_logli(c_in[:, 10:], mus, sds))\n",
    "#     qgp = -tf.reduce_mean(log_gauss_other_thing(c_in))\n",
    "    \n",
    "    q_lb = q_ce + q_ent + qgce\n",
    "    \n",
    "    \n",
    "    base_net_vars = g.get_collection(tf.GraphKeys.TRAINABLE_VARIABLES, 'base_net')\n",
    "    q_vars = g.get_collection(tf.GraphKeys.TRAINABLE_VARIABLES, 'generator') \\\n",
    "        + base_net_vars\\\n",
    "        + g.get_collection(tf.GraphKeys.TRAINABLE_VARIABLES, 'q_net')\n",
    "        \n",
    "    d_step = tf.train.AdamOptimizer(2e-4).minimize(\n",
    "        d_loss, var_list=g.get_collection(tf.GraphKeys.TRAINABLE_VARIABLES, 'disc') + base_net_vars)\n",
    "    g_step = tf.train.AdamOptimizer(1e-3).minimize(\n",
    "        g_loss, var_list=g.get_collection(tf.GraphKeys.TRAINABLE_VARIABLES, 'generator'))\n",
    "    q_step = tf.train.AdamOptimizer(2e-4).minimize(q_lb, var_list=q_vars)"
   ]
  },
  {
   "cell_type": "code",
   "execution_count": 130,
   "metadata": {},
   "outputs": [],
   "source": [
    "try:\n",
    "    while True:\n",
    "        tf.get_default_session().close()\n",
    "except: pass\n",
    "sess = tf.InteractiveSession(graph=g)\n",
    "sess.run(tf.global_variables_initializer())"
   ]
  },
  {
   "cell_type": "code",
   "execution_count": 131,
   "metadata": {},
   "outputs": [],
   "source": [
    "bs = 32"
   ]
  },
  {
   "cell_type": "code",
   "execution_count": 132,
   "metadata": {},
   "outputs": [],
   "source": [
    "def sample_z(*shape):\n",
    "    return np.random.uniform(-1, 1.0, shape)\n",
    "def sample_c(n):\n",
    "    return np.append(np.random.multinomial(1, [0.1]*10, size=n), np.random.randn(n, 1), axis=1)"
   ]
  },
  {
   "cell_type": "code",
   "execution_count": 133,
   "metadata": {
    "scrolled": true
   },
   "outputs": [
    {
     "name": "stdout",
     "output_type": "stream",
     "text": [
      "Iter 0, Discriminator loss: 1.27085, Generator loss: 1.18656\n",
      "Iter 400, Discriminator loss: 0.95445, Generator loss: 0.87377\n",
      "Iter 800, Discriminator loss: 1.44932, Generator loss: 0.64235\n",
      "Iter 1200, Discriminator loss: 0.82820, Generator loss: 1.02516\n",
      "Iter 1600, Discriminator loss: 1.27932, Generator loss: 0.89977\n",
      "Iter 2000, Discriminator loss: 1.20871, Generator loss: 0.84312\n",
      "Iter 2400, Discriminator loss: 0.99875, Generator loss: 0.98578\n",
      "Iter 2800, Discriminator loss: 1.29860, Generator loss: 0.95045\n",
      "Iter 3200, Discriminator loss: 1.18997, Generator loss: 0.93330\n",
      "Iter 3600, Discriminator loss: 0.98559, Generator loss: 1.01093\n",
      "Iter 4000, Discriminator loss: 0.98079, Generator loss: 1.02150\n",
      "Iter 4400, Discriminator loss: 1.15311, Generator loss: 1.00308\n",
      "Iter 4800, Discriminator loss: 1.10522, Generator loss: 0.91915\n",
      "Iter 5200, Discriminator loss: 1.33708, Generator loss: 0.94087\n",
      "Iter 5600, Discriminator loss: 1.14605, Generator loss: 0.93679\n",
      "Iter 6000, Discriminator loss: 1.09822, Generator loss: 1.10404\n",
      "Iter 6400, Discriminator loss: 1.14298, Generator loss: 1.03883\n",
      "Iter 6800, Discriminator loss: 1.15592, Generator loss: 1.04424\n",
      "Iter 7200, Discriminator loss: 1.17179, Generator loss: 0.91880\n",
      "Iter 7600, Discriminator loss: 1.14121, Generator loss: 1.04478\n",
      "Iter 8000, Discriminator loss: 0.90677, Generator loss: 1.06904\n",
      "Iter 8400, Discriminator loss: 1.10500, Generator loss: 1.13154\n",
      "Iter 8800, Discriminator loss: 1.14902, Generator loss: 1.08407\n",
      "Iter 9200, Discriminator loss: 1.12153, Generator loss: 1.05237\n",
      "Iter 9600, Discriminator loss: 1.14327, Generator loss: 1.08357\n",
      "Iter 10000, Discriminator loss: 1.16514, Generator loss: 0.95647\n",
      "Iter 10400, Discriminator loss: 0.98252, Generator loss: 1.16995\n",
      "Iter 10800, Discriminator loss: 1.05177, Generator loss: 1.05377\n",
      "Iter 11200, Discriminator loss: 0.98377, Generator loss: 1.11346\n",
      "Iter 11600, Discriminator loss: 1.08615, Generator loss: 0.89791\n",
      "Iter 12000, Discriminator loss: 1.16501, Generator loss: 0.98268\n",
      "Iter 12400, Discriminator loss: 1.02457, Generator loss: 1.01394\n",
      "Iter 12800, Discriminator loss: 1.00489, Generator loss: 1.09359\n",
      "Iter 13200, Discriminator loss: 1.03886, Generator loss: 0.92624\n",
      "Iter 13600, Discriminator loss: 1.10449, Generator loss: 1.12901\n",
      "Iter 14000, Discriminator loss: 0.94474, Generator loss: 1.19922\n",
      "Iter 14400, Discriminator loss: 1.00968, Generator loss: 1.12408\n",
      "Iter 14800, Discriminator loss: 1.11102, Generator loss: 1.14869\n",
      "Iter 15200, Discriminator loss: 1.11849, Generator loss: 0.93475\n",
      "Iter 15600, Discriminator loss: 1.08296, Generator loss: 1.04005\n",
      "Iter 16000, Discriminator loss: 0.96147, Generator loss: 1.19314\n",
      "Iter 16400, Discriminator loss: 1.11592, Generator loss: 1.18489\n",
      "Iter 16800, Discriminator loss: 0.95586, Generator loss: 1.06107\n",
      "Iter 17200, Discriminator loss: 1.02502, Generator loss: 1.08638\n",
      "Iter 17600, Discriminator loss: 1.14960, Generator loss: 1.10549\n",
      "Iter 18000, Discriminator loss: 1.22004, Generator loss: 1.12804\n",
      "Iter 18400, Discriminator loss: 1.11893, Generator loss: 1.12766\n",
      "Iter 18800, Discriminator loss: 1.25387, Generator loss: 0.98875\n",
      "Iter 19200, Discriminator loss: 0.97542, Generator loss: 1.08477\n",
      "Iter 19600, Discriminator loss: 1.13729, Generator loss: 1.06865\n",
      "Iter 20000, Discriminator loss: 1.08008, Generator loss: 1.04115\n",
      "Iter 20400, Discriminator loss: 1.09013, Generator loss: 1.20259\n",
      "Iter 20800, Discriminator loss: 1.10979, Generator loss: 1.02940\n",
      "Iter 21200, Discriminator loss: 1.11975, Generator loss: 1.19057\n",
      "Iter 21600, Discriminator loss: 1.03450, Generator loss: 1.16978\n",
      "Iter 22000, Discriminator loss: 1.17016, Generator loss: 1.00280\n",
      "Iter 22400, Discriminator loss: 0.97350, Generator loss: 1.23196\n",
      "Iter 22800, Discriminator loss: 1.14824, Generator loss: 1.04351\n",
      "Iter 23200, Discriminator loss: 1.11528, Generator loss: 1.10046\n",
      "Iter 23600, Discriminator loss: 0.98616, Generator loss: 1.07976\n",
      "Iter 24000, Discriminator loss: 1.15316, Generator loss: 0.96641\n",
      "Iter 24400, Discriminator loss: 0.87887, Generator loss: 1.16487\n",
      "Iter 24800, Discriminator loss: 1.14135, Generator loss: 0.97530\n",
      "Iter 25200, Discriminator loss: 1.11330, Generator loss: 1.01601\n",
      "Iter 25600, Discriminator loss: 1.01582, Generator loss: 1.25994\n",
      "Iter 26000, Discriminator loss: 1.19036, Generator loss: 1.00915\n",
      "Iter 26400, Discriminator loss: 0.99657, Generator loss: 1.15800\n",
      "Iter 26800, Discriminator loss: 0.93444, Generator loss: 1.04099\n",
      "Iter 27200, Discriminator loss: 1.12170, Generator loss: 0.99403\n",
      "Iter 27600, Discriminator loss: 1.08385, Generator loss: 0.97564\n",
      "Iter 28000, Discriminator loss: 1.01618, Generator loss: 1.04643\n"
     ]
    },
    {
     "ename": "KeyboardInterrupt",
     "evalue": "",
     "output_type": "error",
     "traceback": [
      "\u001b[0;31m---------------------------------------------------------------------------\u001b[0m",
      "\u001b[0;31mKeyboardInterrupt\u001b[0m                         Traceback (most recent call last)",
      "\u001b[0;32m<ipython-input-133-d04e3533e5c5>\u001b[0m in \u001b[0;36m<module>\u001b[0;34m()\u001b[0m\n\u001b[1;32m     22\u001b[0m     \u001b[0m_\u001b[0m\u001b[0;34m,\u001b[0m \u001b[0mgl\u001b[0m \u001b[0;34m=\u001b[0m \u001b[0msess\u001b[0m\u001b[0;34m.\u001b[0m\u001b[0mrun\u001b[0m\u001b[0;34m(\u001b[0m\u001b[0;34m[\u001b[0m\u001b[0mg_step\u001b[0m\u001b[0;34m,\u001b[0m \u001b[0mg_loss\u001b[0m\u001b[0;34m]\u001b[0m\u001b[0;34m,\u001b[0m \u001b[0mfeed_dict\u001b[0m\u001b[0;34m=\u001b[0m\u001b[0;34m{\u001b[0m\u001b[0mX_in\u001b[0m\u001b[0;34m:\u001b[0m \u001b[0mxb\u001b[0m\u001b[0;34m,\u001b[0m \u001b[0mZ_in\u001b[0m\u001b[0;34m:\u001b[0m \u001b[0mz_\u001b[0m\u001b[0;34m,\u001b[0m \u001b[0mc_in\u001b[0m\u001b[0;34m:\u001b[0m \u001b[0mc_\u001b[0m\u001b[0;34m}\u001b[0m\u001b[0;34m)\u001b[0m\u001b[0;34m\u001b[0m\u001b[0m\n\u001b[1;32m     23\u001b[0m \u001b[0;34m\u001b[0m\u001b[0m\n\u001b[0;32m---> 24\u001b[0;31m     \u001b[0msess\u001b[0m\u001b[0;34m.\u001b[0m\u001b[0mrun\u001b[0m\u001b[0;34m(\u001b[0m\u001b[0;34m[\u001b[0m\u001b[0mq_step\u001b[0m\u001b[0;34m]\u001b[0m\u001b[0;34m,\u001b[0m \u001b[0mfeed_dict\u001b[0m\u001b[0;34m=\u001b[0m\u001b[0;34m{\u001b[0m\u001b[0mX_in\u001b[0m\u001b[0;34m:\u001b[0m \u001b[0mxb\u001b[0m\u001b[0;34m,\u001b[0m \u001b[0mZ_in\u001b[0m\u001b[0;34m:\u001b[0m \u001b[0mz_\u001b[0m\u001b[0;34m,\u001b[0m \u001b[0mc_in\u001b[0m\u001b[0;34m:\u001b[0m \u001b[0mc_\u001b[0m\u001b[0;34m}\u001b[0m\u001b[0;34m)\u001b[0m\u001b[0;34m\u001b[0m\u001b[0m\n\u001b[0m\u001b[1;32m     25\u001b[0m     \u001b[0mdls\u001b[0m\u001b[0;34m.\u001b[0m\u001b[0mappend\u001b[0m\u001b[0;34m(\u001b[0m\u001b[0mdl\u001b[0m\u001b[0;34m)\u001b[0m\u001b[0;34m\u001b[0m\u001b[0m\n\u001b[1;32m     26\u001b[0m     \u001b[0mgls\u001b[0m\u001b[0;34m.\u001b[0m\u001b[0mappend\u001b[0m\u001b[0;34m(\u001b[0m\u001b[0mgl\u001b[0m\u001b[0;34m)\u001b[0m\u001b[0;34m\u001b[0m\u001b[0m\n",
      "\u001b[0;32m/usr/local/lib/python3.6/site-packages/tensorflow/python/client/session.py\u001b[0m in \u001b[0;36mrun\u001b[0;34m(self, fetches, feed_dict, options, run_metadata)\u001b[0m\n\u001b[1;32m    893\u001b[0m     \u001b[0;32mtry\u001b[0m\u001b[0;34m:\u001b[0m\u001b[0;34m\u001b[0m\u001b[0m\n\u001b[1;32m    894\u001b[0m       result = self._run(None, fetches, feed_dict, options_ptr,\n\u001b[0;32m--> 895\u001b[0;31m                          run_metadata_ptr)\n\u001b[0m\u001b[1;32m    896\u001b[0m       \u001b[0;32mif\u001b[0m \u001b[0mrun_metadata\u001b[0m\u001b[0;34m:\u001b[0m\u001b[0;34m\u001b[0m\u001b[0m\n\u001b[1;32m    897\u001b[0m         \u001b[0mproto_data\u001b[0m \u001b[0;34m=\u001b[0m \u001b[0mtf_session\u001b[0m\u001b[0;34m.\u001b[0m\u001b[0mTF_GetBuffer\u001b[0m\u001b[0;34m(\u001b[0m\u001b[0mrun_metadata_ptr\u001b[0m\u001b[0;34m)\u001b[0m\u001b[0;34m\u001b[0m\u001b[0m\n",
      "\u001b[0;32m/usr/local/lib/python3.6/site-packages/tensorflow/python/client/session.py\u001b[0m in \u001b[0;36m_run\u001b[0;34m(self, handle, fetches, feed_dict, options, run_metadata)\u001b[0m\n\u001b[1;32m   1126\u001b[0m     \u001b[0;32mif\u001b[0m \u001b[0mfinal_fetches\u001b[0m \u001b[0;32mor\u001b[0m \u001b[0mfinal_targets\u001b[0m \u001b[0;32mor\u001b[0m \u001b[0;34m(\u001b[0m\u001b[0mhandle\u001b[0m \u001b[0;32mand\u001b[0m \u001b[0mfeed_dict_tensor\u001b[0m\u001b[0;34m)\u001b[0m\u001b[0;34m:\u001b[0m\u001b[0;34m\u001b[0m\u001b[0m\n\u001b[1;32m   1127\u001b[0m       results = self._do_run(handle, final_targets, final_fetches,\n\u001b[0;32m-> 1128\u001b[0;31m                              feed_dict_tensor, options, run_metadata)\n\u001b[0m\u001b[1;32m   1129\u001b[0m     \u001b[0;32melse\u001b[0m\u001b[0;34m:\u001b[0m\u001b[0;34m\u001b[0m\u001b[0m\n\u001b[1;32m   1130\u001b[0m       \u001b[0mresults\u001b[0m \u001b[0;34m=\u001b[0m \u001b[0;34m[\u001b[0m\u001b[0;34m]\u001b[0m\u001b[0;34m\u001b[0m\u001b[0m\n",
      "\u001b[0;32m/usr/local/lib/python3.6/site-packages/tensorflow/python/client/session.py\u001b[0m in \u001b[0;36m_do_run\u001b[0;34m(self, handle, target_list, fetch_list, feed_dict, options, run_metadata)\u001b[0m\n\u001b[1;32m   1342\u001b[0m     \u001b[0;32mif\u001b[0m \u001b[0mhandle\u001b[0m \u001b[0;32mis\u001b[0m \u001b[0;32mNone\u001b[0m\u001b[0;34m:\u001b[0m\u001b[0;34m\u001b[0m\u001b[0m\n\u001b[1;32m   1343\u001b[0m       return self._do_call(_run_fn, self._session, feeds, fetches, targets,\n\u001b[0;32m-> 1344\u001b[0;31m                            options, run_metadata)\n\u001b[0m\u001b[1;32m   1345\u001b[0m     \u001b[0;32melse\u001b[0m\u001b[0;34m:\u001b[0m\u001b[0;34m\u001b[0m\u001b[0m\n\u001b[1;32m   1346\u001b[0m       \u001b[0;32mreturn\u001b[0m \u001b[0mself\u001b[0m\u001b[0;34m.\u001b[0m\u001b[0m_do_call\u001b[0m\u001b[0;34m(\u001b[0m\u001b[0m_prun_fn\u001b[0m\u001b[0;34m,\u001b[0m \u001b[0mself\u001b[0m\u001b[0;34m.\u001b[0m\u001b[0m_session\u001b[0m\u001b[0;34m,\u001b[0m \u001b[0mhandle\u001b[0m\u001b[0;34m,\u001b[0m \u001b[0mfeeds\u001b[0m\u001b[0;34m,\u001b[0m \u001b[0mfetches\u001b[0m\u001b[0;34m)\u001b[0m\u001b[0;34m\u001b[0m\u001b[0m\n",
      "\u001b[0;32m/usr/local/lib/python3.6/site-packages/tensorflow/python/client/session.py\u001b[0m in \u001b[0;36m_do_call\u001b[0;34m(self, fn, *args)\u001b[0m\n\u001b[1;32m   1348\u001b[0m   \u001b[0;32mdef\u001b[0m \u001b[0m_do_call\u001b[0m\u001b[0;34m(\u001b[0m\u001b[0mself\u001b[0m\u001b[0;34m,\u001b[0m \u001b[0mfn\u001b[0m\u001b[0;34m,\u001b[0m \u001b[0;34m*\u001b[0m\u001b[0margs\u001b[0m\u001b[0;34m)\u001b[0m\u001b[0;34m:\u001b[0m\u001b[0;34m\u001b[0m\u001b[0m\n\u001b[1;32m   1349\u001b[0m     \u001b[0;32mtry\u001b[0m\u001b[0;34m:\u001b[0m\u001b[0;34m\u001b[0m\u001b[0m\n\u001b[0;32m-> 1350\u001b[0;31m       \u001b[0;32mreturn\u001b[0m \u001b[0mfn\u001b[0m\u001b[0;34m(\u001b[0m\u001b[0;34m*\u001b[0m\u001b[0margs\u001b[0m\u001b[0;34m)\u001b[0m\u001b[0;34m\u001b[0m\u001b[0m\n\u001b[0m\u001b[1;32m   1351\u001b[0m     \u001b[0;32mexcept\u001b[0m \u001b[0merrors\u001b[0m\u001b[0;34m.\u001b[0m\u001b[0mOpError\u001b[0m \u001b[0;32mas\u001b[0m \u001b[0me\u001b[0m\u001b[0;34m:\u001b[0m\u001b[0;34m\u001b[0m\u001b[0m\n\u001b[1;32m   1352\u001b[0m       \u001b[0mmessage\u001b[0m \u001b[0;34m=\u001b[0m \u001b[0mcompat\u001b[0m\u001b[0;34m.\u001b[0m\u001b[0mas_text\u001b[0m\u001b[0;34m(\u001b[0m\u001b[0me\u001b[0m\u001b[0;34m.\u001b[0m\u001b[0mmessage\u001b[0m\u001b[0;34m)\u001b[0m\u001b[0;34m\u001b[0m\u001b[0m\n",
      "\u001b[0;32m/usr/local/lib/python3.6/site-packages/tensorflow/python/client/session.py\u001b[0m in \u001b[0;36m_run_fn\u001b[0;34m(session, feed_dict, fetch_list, target_list, options, run_metadata)\u001b[0m\n\u001b[1;32m   1327\u001b[0m           return tf_session.TF_Run(session, options,\n\u001b[1;32m   1328\u001b[0m                                    \u001b[0mfeed_dict\u001b[0m\u001b[0;34m,\u001b[0m \u001b[0mfetch_list\u001b[0m\u001b[0;34m,\u001b[0m \u001b[0mtarget_list\u001b[0m\u001b[0;34m,\u001b[0m\u001b[0;34m\u001b[0m\u001b[0m\n\u001b[0;32m-> 1329\u001b[0;31m                                    status, run_metadata)\n\u001b[0m\u001b[1;32m   1330\u001b[0m \u001b[0;34m\u001b[0m\u001b[0m\n\u001b[1;32m   1331\u001b[0m     \u001b[0;32mdef\u001b[0m \u001b[0m_prun_fn\u001b[0m\u001b[0;34m(\u001b[0m\u001b[0msession\u001b[0m\u001b[0;34m,\u001b[0m \u001b[0mhandle\u001b[0m\u001b[0;34m,\u001b[0m \u001b[0mfeed_dict\u001b[0m\u001b[0;34m,\u001b[0m \u001b[0mfetch_list\u001b[0m\u001b[0;34m)\u001b[0m\u001b[0;34m:\u001b[0m\u001b[0;34m\u001b[0m\u001b[0m\n",
      "\u001b[0;31mKeyboardInterrupt\u001b[0m: "
     ]
    }
   ],
   "source": [
    "dls = []\n",
    "gls = []\n",
    "save_every=500\n",
    "N1 = 4\n",
    "np.random.seed(1091883)\n",
    "ref_c = sample_c(N1**2)\n",
    "ref_z = sample_z(N1**2, z_dim)\n",
    "for iteration in range(len(dls), 100000):\n",
    "    if iteration % save_every == 0:\n",
    "        ims = sess.run(g_sample, feed_dict={Z_in: ref_z, c_in: ref_c}).reshape(-1, 28, 28)\n",
    "        fig = plt.figure(figsize=(16, 16))\n",
    "        for i in range(N1*N1):\n",
    "            ax = fig.add_subplot(N1, N1, i+1)\n",
    "            ax.imshow(ims[i])\n",
    "            ax.axis('off')\n",
    "        fig.savefig('/Users/nikil/Downloads/out/%d.png'%(iteration//save_every))\n",
    "        plt.close()\n",
    "    xb = next_batch(bs)\n",
    "    z_ = sample_z(bs, z_dim)\n",
    "    c_ = sample_c(bs)\n",
    "    _, dl = sess.run([d_step, d_loss], feed_dict={X_in: xb, Z_in: z_, c_in: c_})\n",
    "    _, gl = sess.run([g_step, g_loss], feed_dict={X_in: xb, Z_in: z_, c_in: c_})\n",
    "    \n",
    "    sess.run([q_step], feed_dict={X_in: xb, Z_in: z_, c_in: c_})\n",
    "    dls.append(dl)\n",
    "    gls.append(gl)\n",
    "    if iteration % 400 == 0:\n",
    "        print(f'Iter {iteration}, Discriminator loss: {dl:.5f}, Generator loss: {gl:.5f}')"
   ]
  },
  {
   "cell_type": "code",
   "execution_count": 134,
   "metadata": {
    "collapsed": true
   },
   "outputs": [
    {
     "ename": "ValueError",
     "evalue": "Cannot feed value of shape (11, 12) for Tensor 'Placeholder_1:0', which has shape '(?, 11)'",
     "output_type": "error",
     "traceback": [
      "\u001b[0;31m---------------------------------------------------------------------------\u001b[0m",
      "\u001b[0;31mValueError\u001b[0m                                Traceback (most recent call last)",
      "\u001b[0;32m<ipython-input-134-8d1c298cbb8a>\u001b[0m in \u001b[0;36m<module>\u001b[0;34m()\u001b[0m\n\u001b[1;32m      5\u001b[0m \u001b[0mcs\u001b[0m\u001b[0;34m[\u001b[0m\u001b[0;34m:\u001b[0m\u001b[0;34m,\u001b[0m \u001b[0;34m-\u001b[0m\u001b[0;36m1\u001b[0m\u001b[0;34m]\u001b[0m \u001b[0;34m=\u001b[0m \u001b[0mnp\u001b[0m\u001b[0;34m.\u001b[0m\u001b[0mlinspace\u001b[0m\u001b[0;34m(\u001b[0m\u001b[0;34m-\u001b[0m\u001b[0;36m2\u001b[0m\u001b[0;34m,\u001b[0m \u001b[0;36m2\u001b[0m\u001b[0;34m,\u001b[0m \u001b[0;36m11\u001b[0m\u001b[0;34m)\u001b[0m\u001b[0;34m\u001b[0m\u001b[0m\n\u001b[1;32m      6\u001b[0m \u001b[0mfig\u001b[0m \u001b[0;34m=\u001b[0m \u001b[0mplt\u001b[0m\u001b[0;34m.\u001b[0m\u001b[0mfigure\u001b[0m\u001b[0;34m(\u001b[0m\u001b[0mfigsize\u001b[0m\u001b[0;34m=\u001b[0m\u001b[0;34m(\u001b[0m\u001b[0;36m16\u001b[0m\u001b[0;34m,\u001b[0m \u001b[0;36m16\u001b[0m\u001b[0;34m)\u001b[0m\u001b[0;34m)\u001b[0m\u001b[0;34m\u001b[0m\u001b[0m\n\u001b[0;32m----> 7\u001b[0;31m \u001b[0mims\u001b[0m \u001b[0;34m=\u001b[0m \u001b[0msess\u001b[0m\u001b[0;34m.\u001b[0m\u001b[0mrun\u001b[0m\u001b[0;34m(\u001b[0m\u001b[0mg_sample\u001b[0m\u001b[0;34m,\u001b[0m \u001b[0mfeed_dict\u001b[0m\u001b[0;34m=\u001b[0m\u001b[0;34m{\u001b[0m\u001b[0mZ_in\u001b[0m\u001b[0;34m:\u001b[0m \u001b[0mzs\u001b[0m\u001b[0;34m,\u001b[0m \u001b[0mc_in\u001b[0m\u001b[0;34m:\u001b[0m \u001b[0mcs\u001b[0m\u001b[0;34m}\u001b[0m\u001b[0;34m)\u001b[0m\u001b[0;34m.\u001b[0m\u001b[0mreshape\u001b[0m\u001b[0;34m(\u001b[0m\u001b[0;34m-\u001b[0m\u001b[0;36m1\u001b[0m\u001b[0;34m,\u001b[0m \u001b[0;36m28\u001b[0m\u001b[0;34m,\u001b[0m \u001b[0;36m28\u001b[0m\u001b[0;34m)\u001b[0m\u001b[0;34m\u001b[0m\u001b[0m\n\u001b[0m\u001b[1;32m      8\u001b[0m \u001b[0;32mfor\u001b[0m \u001b[0mi\u001b[0m \u001b[0;32min\u001b[0m \u001b[0mrange\u001b[0m\u001b[0;34m(\u001b[0m\u001b[0;36m11\u001b[0m\u001b[0;34m)\u001b[0m\u001b[0;34m:\u001b[0m\u001b[0;34m\u001b[0m\u001b[0m\n\u001b[1;32m      9\u001b[0m     \u001b[0max\u001b[0m \u001b[0;34m=\u001b[0m \u001b[0mplt\u001b[0m\u001b[0;34m.\u001b[0m\u001b[0msubplot\u001b[0m\u001b[0;34m(\u001b[0m\u001b[0;36m4\u001b[0m\u001b[0;34m,\u001b[0m \u001b[0;36m4\u001b[0m\u001b[0;34m,\u001b[0m \u001b[0mi\u001b[0m\u001b[0;34m+\u001b[0m\u001b[0;36m1\u001b[0m\u001b[0;34m)\u001b[0m\u001b[0;34m\u001b[0m\u001b[0m\n",
      "\u001b[0;32m/usr/local/lib/python3.6/site-packages/tensorflow/python/client/session.py\u001b[0m in \u001b[0;36mrun\u001b[0;34m(self, fetches, feed_dict, options, run_metadata)\u001b[0m\n\u001b[1;32m    893\u001b[0m     \u001b[0;32mtry\u001b[0m\u001b[0;34m:\u001b[0m\u001b[0;34m\u001b[0m\u001b[0m\n\u001b[1;32m    894\u001b[0m       result = self._run(None, fetches, feed_dict, options_ptr,\n\u001b[0;32m--> 895\u001b[0;31m                          run_metadata_ptr)\n\u001b[0m\u001b[1;32m    896\u001b[0m       \u001b[0;32mif\u001b[0m \u001b[0mrun_metadata\u001b[0m\u001b[0;34m:\u001b[0m\u001b[0;34m\u001b[0m\u001b[0m\n\u001b[1;32m    897\u001b[0m         \u001b[0mproto_data\u001b[0m \u001b[0;34m=\u001b[0m \u001b[0mtf_session\u001b[0m\u001b[0;34m.\u001b[0m\u001b[0mTF_GetBuffer\u001b[0m\u001b[0;34m(\u001b[0m\u001b[0mrun_metadata_ptr\u001b[0m\u001b[0;34m)\u001b[0m\u001b[0;34m\u001b[0m\u001b[0m\n",
      "\u001b[0;32m/usr/local/lib/python3.6/site-packages/tensorflow/python/client/session.py\u001b[0m in \u001b[0;36m_run\u001b[0;34m(self, handle, fetches, feed_dict, options, run_metadata)\u001b[0m\n\u001b[1;32m   1102\u001b[0m                 \u001b[0;34m'Cannot feed value of shape %r for Tensor %r, '\u001b[0m\u001b[0;34m\u001b[0m\u001b[0m\n\u001b[1;32m   1103\u001b[0m                 \u001b[0;34m'which has shape %r'\u001b[0m\u001b[0;34m\u001b[0m\u001b[0m\n\u001b[0;32m-> 1104\u001b[0;31m                 % (np_val.shape, subfeed_t.name, str(subfeed_t.get_shape())))\n\u001b[0m\u001b[1;32m   1105\u001b[0m           \u001b[0;32mif\u001b[0m \u001b[0;32mnot\u001b[0m \u001b[0mself\u001b[0m\u001b[0;34m.\u001b[0m\u001b[0mgraph\u001b[0m\u001b[0;34m.\u001b[0m\u001b[0mis_feedable\u001b[0m\u001b[0;34m(\u001b[0m\u001b[0msubfeed_t\u001b[0m\u001b[0;34m)\u001b[0m\u001b[0;34m:\u001b[0m\u001b[0;34m\u001b[0m\u001b[0m\n\u001b[1;32m   1106\u001b[0m             \u001b[0;32mraise\u001b[0m \u001b[0mValueError\u001b[0m\u001b[0;34m(\u001b[0m\u001b[0;34m'Tensor %s may not be fed.'\u001b[0m \u001b[0;34m%\u001b[0m \u001b[0msubfeed_t\u001b[0m\u001b[0;34m)\u001b[0m\u001b[0;34m\u001b[0m\u001b[0m\n",
      "\u001b[0;31mValueError\u001b[0m: Cannot feed value of shape (11, 12) for Tensor 'Placeholder_1:0', which has shape '(?, 11)'"
     ]
    },
    {
     "data": {
      "text/plain": [
       "<matplotlib.figure.Figure at 0x156434ac8>"
      ]
     },
     "metadata": {},
     "output_type": "display_data"
    }
   ],
   "source": [
    "zs = sample_z(11, z_dim)\n",
    "zs = np.zeros((11, z_dim))\n",
    "cs = np.zeros((11, 12))\n",
    "cs[:, 0] = 1\n",
    "cs[:, -1] = np.linspace(-2, 2, 11)\n",
    "fig = plt.figure(figsize=(16, 16))\n",
    "ims = sess.run(g_sample, feed_dict={Z_in: zs, c_in: cs}).reshape(-1, 28, 28)\n",
    "for i in range(11):\n",
    "    ax = plt.subplot(4, 4, i+1)\n",
    "    ax.imshow(ims[i])\n",
    "    ax.axis('off')"
   ]
  },
  {
   "cell_type": "code",
   "execution_count": 135,
   "metadata": {},
   "outputs": [
    {
     "data": {
      "image/png": "[encoded data removed]",
      "text/plain": [
       "<matplotlib.figure.Figure at 0x1569728d0>"
      ]
     },
     "metadata": {},
     "output_type": "display_data"
    }
   ],
   "source": [
    "N1 = 4\n",
    "fig = plt.figure(figsize=(16, 16))\n",
    "z_ = sample_z(N1**2, z_dim)\n",
    "c_ = sample_c(N1**2)\n",
    "ims = sess.run(g_sample, feed_dict={Z_in: z_, c_in: c_}).reshape(-1, 28, 28)\n",
    "for i in range(N1*N1):\n",
    "    ax = fig.add_subplot(N1, N1, i+1)\n",
    "    ax.imshow(ims[i])\n",
    "    ax.axis('off')"
   ]
  },
  {
   "cell_type": "code",
   "execution_count": null,
   "metadata": {
    "collapsed": true
   },
   "outputs": [],
   "source": []
  }
 ],
 "metadata": {
  "kernelspec": {
   "display_name": "Python 3",
   "language": "python",
   "name": "python3"
  },
  "language_info": {
   "codemirror_mode": {
    "name": "ipython",
    "version": 3
   },
   "file_extension": ".py",
   "mimetype": "text/x-python",
   "name": "python",
   "nbconvert_exporter": "python",
   "pygments_lexer": "ipython3",
   "version": "3.6.4"
  }
 },
 "nbformat": 4,
 "nbformat_minor": 2
}
