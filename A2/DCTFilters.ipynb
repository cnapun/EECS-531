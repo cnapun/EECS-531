{
 "cells": [
  {
   "cell_type": "code",
   "execution_count": 1,
   "metadata": {
    "collapsed": true
   },
   "outputs": [],
   "source": [
    "import matplotlib.pyplot as plt\n",
    "import numpy as np\n",
    "from scipy import fftpack\n",
    "from scipy.fftpack import dct, idct\n",
    "from skimage import data\n",
    "\n",
    "plt.gray()\n",
    "%matplotlib inline"
   ]
  },
  {
   "cell_type": "code",
   "execution_count": 15,
   "metadata": {
    "collapsed": true
   },
   "outputs": [],
   "source": [
    "def dct2(a):\n",
    "    return dct(dct(a.T).T)\n",
    "def idct2(a):\n",
    "    return idct(idct(a.T).T)\n",
    "def gnoise(a, sig):\n",
    "    return np.clip(a+sig*np.random.randn(*a.shape), a.min(), a.max())\n",
    "def spnoise(a, p):\n",
    "    n = np.random.rand(*a.shape)\n",
    "    l = n<p/2\n",
    "    u = n>(1-p/2)\n",
    "    return a * ~(l|u) + u*a.max()"
   ]
  },
  {
   "cell_type": "code",
   "execution_count": 13,
   "metadata": {},
   "outputs": [],
   "source": [
    "im = data.camera()"
   ]
  },
  {
   "cell_type": "code",
   "execution_count": null,
   "metadata": {
    "collapsed": true
   },
   "outputs": [],
   "source": []
  }
 ],
 "metadata": {
  "kernelspec": {
   "display_name": "Python 3",
   "language": "python",
   "name": "python3"
  },
  "language_info": {
   "codemirror_mode": {
    "name": "ipython",
    "version": 3
   },
   "file_extension": ".py",
   "mimetype": "text/x-python",
   "name": "python",
   "nbconvert_exporter": "python",
   "pygments_lexer": "ipython3",
   "version": "3.6.3"
  }
 },
 "nbformat": 4,
 "nbformat_minor": 2
}
