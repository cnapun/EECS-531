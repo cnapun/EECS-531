{
 "cells": [
  {
   "cell_type": "code",
   "execution_count": 4,
   "metadata": {},
   "outputs": [],
   "source": [
    "import matplotlib.pyplot as plt\n",
    "import numpy as np\n",
    "import tensorflow as tf\n",
    "from sklearn.datasets import fetch_mldata\n",
    "\n",
    "plt.gray()\n",
    "%matplotlib inline"
   ]
  },
  {
   "cell_type": "code",
   "execution_count": 5,
   "metadata": {},
   "outputs": [],
   "source": [
    "def sample_c(n):\n",
    "    return np.random.multinomial(1, [0.1]*10, size=n)\n",
    "def sample_z(*shape):\n",
    "    return np.random.uniform(-1, 1.0, shape)"
   ]
  },
  {
   "cell_type": "code",
   "execution_count": 6,
   "metadata": {},
   "outputs": [],
   "source": [
    "mnist = fetch_mldata('MNIST original')\n",
    "x_data = mnist['data'] / 255.0\n",
    "del mnist"
   ]
  },
  {
   "cell_type": "code",
   "execution_count": 7,
   "metadata": {},
   "outputs": [],
   "source": [
    "def next_batch(n):\n",
    "    return x_data[np.random.randint(0, len(x_data), size=n)]"
   ]
  },
  {
   "cell_type": "code",
   "execution_count": 87,
   "metadata": {},
   "outputs": [],
   "source": [
    "def q_net(x, reuse=None):\n",
    "    h = disc_net(x, reuse=reuse)\n",
    "    with tf.variable_scope('q_net'):\n",
    "        h = tf.layers.dense(h, 10, activation=tf.nn.softmax)\n",
    "    return h\n",
    "def generator(x, c, reuse=None):\n",
    "    with tf.variable_scope('generator', reuse=reuse):\n",
    "        h = tf.concat((x, c), axis=1)\n",
    "        h = tf.layers.dense(h, 7*7*10, activation=tf.nn.relu)\n",
    "        h = tf.layers.conv2d_transpose(tf.reshape(h, (tf.shape(h)[0], 7, 7, 10)), 64, (3,3), strides=(2,2), padding='same')\n",
    "        h = tf.nn.relu(h)\n",
    "        h = tf.layers.conv2d_transpose(h, 1, (3,3), strides=(2,2), padding='same')\n",
    "    return tf.nn.sigmoid(tf.layers.flatten(h))\n",
    "def disc_net(x, reuse=None):\n",
    "    with tf.variable_scope('base_net', reuse=reuse):\n",
    "        h = tf.layers.dense(x, 256, activation=tf.nn.relu)\n",
    "    return h\n",
    "def discriminator(x, reuse=None, reuse_n=None):\n",
    "    h = disc_net(x, reuse=reuse_n)\n",
    "    with tf.variable_scope('disc', reuse=reuse):\n",
    "        h = tf.layers.dense(h, 1, activation=tf.nn.sigmoid)\n",
    "    return h"
   ]
  },
  {
   "cell_type": "code",
   "execution_count": 88,
   "metadata": {},
   "outputs": [],
   "source": [
    "# z_dim = 20 #works\n",
    "z_dim = 20"
   ]
  },
  {
   "cell_type": "code",
   "execution_count": 89,
   "metadata": {},
   "outputs": [],
   "source": [
    "g = tf.Graph()\n",
    "with g.as_default():\n",
    "    tf.set_random_seed(11248123)\n",
    "    Z_in = tf.placeholder(tf.float32, (None, z_dim))\n",
    "    c_in = tf.placeholder(tf.float32, (None, 10))\n",
    "    X_in = tf.placeholder(tf.float32, (None, 784))\n",
    "    \n",
    "    g_sample = generator(Z_in, c_in)\n",
    "    d_fake = discriminator(g_sample)\n",
    "    d_real = discriminator(X_in, True, True)\n",
    "    qc_x = q_net(g_sample, True)\n",
    "    \n",
    "    d_loss = -tf.reduce_mean(tf.log(d_real + 1e-8) + tf.log(1-d_fake + 1e-8))\n",
    "    g_loss = -tf.reduce_mean(tf.log(d_fake + 1e-8))\n",
    "    \n",
    "    q_ce = -tf.reduce_mean(tf.reduce_sum(tf.log(qc_x+1e-8) * c_in, axis=1))\n",
    "    q_ent = -tf.reduce_mean(tf.reduce_sum(tf.log(c_in+1e-8) * c_in, axis=1))\n",
    "    q_lb = q_ce + q_ent\n",
    "    \n",
    "    \n",
    "    base_net_vars = g.get_collection(tf.GraphKeys.TRAINABLE_VARIABLES, 'base_net')\n",
    "    q_vars = g.get_collection(tf.GraphKeys.TRAINABLE_VARIABLES, 'generator') \\\n",
    "        + base_net_vars\\\n",
    "        + g.get_collection(tf.GraphKeys.TRAINABLE_VARIABLES, 'q_net')\n",
    "        \n",
    "    d_step = tf.train.AdamOptimizer().minimize(\n",
    "        d_loss, var_list=g.get_collection(tf.GraphKeys.TRAINABLE_VARIABLES, 'disc') + base_net_vars)\n",
    "    g_step = tf.train.AdamOptimizer().minimize(\n",
    "        g_loss, var_list=g.get_collection(tf.GraphKeys.TRAINABLE_VARIABLES, 'generator'))\n",
    "    q_step = tf.train.AdamOptimizer().minimize(q_lb, var_list=q_vars)"
   ]
  },
  {
   "cell_type": "code",
   "execution_count": 90,
   "metadata": {},
   "outputs": [],
   "source": [
    "try:\n",
    "    while True:\n",
    "        tf.get_default_session().close()\n",
    "except: pass\n",
    "sess = tf.InteractiveSession(graph=g)\n",
    "sess.run(tf.global_variables_initializer())"
   ]
  },
  {
   "cell_type": "code",
   "execution_count": 91,
   "metadata": {},
   "outputs": [],
   "source": [
    "bs = 32"
   ]
  },
  {
   "cell_type": "code",
   "execution_count": 92,
   "metadata": {},
   "outputs": [
    {
     "name": "stdout",
     "output_type": "stream",
     "text": [
      "Iter 0, Discriminator loss: 1.81829, Generator loss: 2.00867\n",
      "Iter 500, Discriminator loss: 3.51298, Generator loss: 1.47524\n",
      "Iter 1000, Discriminator loss: 0.82136, Generator loss: 1.98516\n",
      "Iter 1500, Discriminator loss: 0.50467, Generator loss: 3.25985\n",
      "Iter 2000, Discriminator loss: 0.44190, Generator loss: 2.03642\n",
      "Iter 2500, Discriminator loss: 0.76943, Generator loss: 1.94563\n",
      "Iter 3000, Discriminator loss: 0.68806, Generator loss: 2.34755\n",
      "Iter 3500, Discriminator loss: 0.77061, Generator loss: 1.49869\n",
      "Iter 4000, Discriminator loss: 0.78084, Generator loss: 2.00726\n",
      "Iter 4500, Discriminator loss: 0.52659, Generator loss: 2.48002\n",
      "Iter 5000, Discriminator loss: 0.75828, Generator loss: 1.61718\n",
      "Iter 5500, Discriminator loss: 0.84327, Generator loss: 1.97028\n",
      "Iter 6000, Discriminator loss: 0.78765, Generator loss: 1.91527\n",
      "Iter 6500, Discriminator loss: 0.38960, Generator loss: 2.33411\n",
      "Iter 7000, Discriminator loss: 0.62292, Generator loss: 2.46890\n",
      "Iter 7500, Discriminator loss: 0.37495, Generator loss: 2.25231\n",
      "Iter 8000, Discriminator loss: 0.59708, Generator loss: 2.11566\n",
      "Iter 8500, Discriminator loss: 0.82834, Generator loss: 1.57581\n",
      "Iter 9000, Discriminator loss: 0.49581, Generator loss: 2.21181\n",
      "Iter 9500, Discriminator loss: 0.58273, Generator loss: 2.14277\n",
      "Iter 10000, Discriminator loss: 0.61792, Generator loss: 2.10638\n",
      "Iter 10500, Discriminator loss: 0.65932, Generator loss: 1.80053\n",
      "Iter 11000, Discriminator loss: 0.42500, Generator loss: 2.41980\n",
      "Iter 11500, Discriminator loss: 0.68796, Generator loss: 1.85168\n",
      "Iter 12000, Discriminator loss: 0.56249, Generator loss: 1.89527\n",
      "Iter 12500, Discriminator loss: 0.57225, Generator loss: 2.18878\n",
      "Iter 13000, Discriminator loss: 0.70939, Generator loss: 1.96136\n",
      "Iter 13500, Discriminator loss: 0.74937, Generator loss: 2.29484\n",
      "Iter 14000, Discriminator loss: 0.48745, Generator loss: 2.22931\n",
      "Iter 14500, Discriminator loss: 0.67154, Generator loss: 2.00981\n",
      "Iter 15000, Discriminator loss: 0.67847, Generator loss: 1.86340\n",
      "Iter 15500, Discriminator loss: 0.93294, Generator loss: 2.06353\n",
      "Iter 16000, Discriminator loss: 0.71855, Generator loss: 1.76843\n",
      "Iter 16500, Discriminator loss: 0.84002, Generator loss: 1.82832\n",
      "Iter 17000, Discriminator loss: 0.93156, Generator loss: 1.86595\n",
      "Iter 17500, Discriminator loss: 0.95929, Generator loss: 1.63163\n",
      "Iter 18000, Discriminator loss: 0.69338, Generator loss: 1.71962\n",
      "Iter 18500, Discriminator loss: 0.60165, Generator loss: 2.16342\n",
      "Iter 19000, Discriminator loss: 0.67837, Generator loss: 1.78482\n",
      "Iter 19500, Discriminator loss: 0.79327, Generator loss: 1.62736\n",
      "Iter 20000, Discriminator loss: 0.79795, Generator loss: 1.79959\n",
      "Iter 20500, Discriminator loss: 0.84205, Generator loss: 1.57612\n",
      "Iter 21000, Discriminator loss: 0.59569, Generator loss: 1.90614\n",
      "Iter 21500, Discriminator loss: 0.68920, Generator loss: 1.97787\n",
      "Iter 22000, Discriminator loss: 0.54433, Generator loss: 1.67727\n",
      "Iter 22500, Discriminator loss: 0.80725, Generator loss: 2.06321\n",
      "Iter 23000, Discriminator loss: 0.81987, Generator loss: 1.87901\n",
      "Iter 23500, Discriminator loss: 0.61649, Generator loss: 2.30894\n",
      "Iter 24000, Discriminator loss: 0.72585, Generator loss: 1.80122\n",
      "Iter 24500, Discriminator loss: 0.57243, Generator loss: 1.96258\n",
      "Iter 25000, Discriminator loss: 0.70813, Generator loss: 2.39043\n",
      "Iter 25500, Discriminator loss: 0.72648, Generator loss: 1.77889\n",
      "Iter 26000, Discriminator loss: 0.69720, Generator loss: 1.77988\n",
      "Iter 26500, Discriminator loss: 0.80070, Generator loss: 1.82750\n",
      "Iter 27000, Discriminator loss: 0.80916, Generator loss: 2.31118\n",
      "Iter 27500, Discriminator loss: 0.45106, Generator loss: 1.91701\n",
      "Iter 28000, Discriminator loss: 0.66782, Generator loss: 1.96313\n",
      "Iter 28500, Discriminator loss: 0.85837, Generator loss: 2.29014\n",
      "Iter 29000, Discriminator loss: 0.74103, Generator loss: 1.85809\n",
      "Iter 29500, Discriminator loss: 0.71664, Generator loss: 2.18338\n"
     ]
    }
   ],
   "source": [
    "dls = []\n",
    "gls = []\n",
    "save_every=500\n",
    "N1 = 4\n",
    "np.random.seed(10091883)\n",
    "ref_c = sample_c(N1**2)\n",
    "ref_z = sample_z(N1**2, z_dim)\n",
    "for iteration in range(30000):\n",
    "    if iteration % save_every == 0:\n",
    "        ims = sess.run(g_sample, feed_dict={Z_in: ref_z, c_in: ref_c}).reshape(-1, 28, 28)\n",
    "        fig = plt.figure(figsize=(16, 16))\n",
    "        for i in range(N1*N1):\n",
    "            ax = fig.add_subplot(N1, N1, i+1)\n",
    "            ax.imshow(ims[i])\n",
    "            ax.axis('off')\n",
    "        fig.savefig('/Users/nikil/Downloads/out/%d.png'%(iteration//save_every))\n",
    "        plt.close()\n",
    "    xb = next_batch(bs) \n",
    "    z_ = sample_z(bs, z_dim)\n",
    "    c_ = sample_c(bs)\n",
    "    _, dl = sess.run([d_step, d_loss], feed_dict={X_in: xb, Z_in: z_, c_in: c_})\n",
    "    _, gl = sess.run([g_step, g_loss], feed_dict={Z_in: z_, c_in: c_})\n",
    "        \n",
    "    dls.append(dl)\n",
    "    gls.append(gl)\n",
    "    sess.run([q_step], feed_dict={Z_in: z_, c_in: c_})\n",
    "    if iteration % 500 == 0:\n",
    "        print(f'Iter {iteration}, Discriminator loss: {dl:.5f}, Generator loss: {gl:.5f}')"
   ]
  },
  {
   "cell_type": "code",
   "execution_count": 94,
   "metadata": {},
   "outputs": [
    {
     "data": {
      "image/png": "[encoded data removed]",
      "text/plain": [
       "<matplotlib.figure.Figure at 0x152140358>"
      ]
     },
     "metadata": {},
     "output_type": "display_data"
    }
   ],
   "source": [
    "N1 = 4\n",
    "plt.figure(figsize=(16, 7))\n",
    "z_ = np.zeros((10, z_dim)) + sample_z(10, z_dim)\n",
    "c_ = np.eye(10)\n",
    "ims = sess.run(g_sample, feed_dict={Z_in: z_, c_in: c_}).reshape(-1, 28, 28)\n",
    "for i in range(len(z_)):\n",
    "    ax = plt.subplot(2, 5, i+1)\n",
    "    ax.imshow(ims[i])\n",
    "    ax.axis('off')"
   ]
  },
  {
   "cell_type": "code",
   "execution_count": null,
   "metadata": {
    "collapsed": true
   },
   "outputs": [],
   "source": []
  }
 ],
 "metadata": {
  "kernelspec": {
   "display_name": "Python 3",
   "language": "python",
   "name": "python3"
  },
  "language_info": {
   "codemirror_mode": {
    "name": "ipython",
    "version": 3
   },
   "file_extension": ".py",
   "mimetype": "text/x-python",
   "name": "python",
   "nbconvert_exporter": "python",
   "pygments_lexer": "ipython3",
   "version": "3.6.4"
  }
 },
 "nbformat": 4,
 "nbformat_minor": 2
}
