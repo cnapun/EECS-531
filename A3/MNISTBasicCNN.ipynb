{
 "cells": [
  {
   "cell_type": "code",
   "execution_count": 16,
   "metadata": {},
   "outputs": [],
   "source": [
    "import numpy as np\n",
    "from keras.datasets import mnist\n",
    "import keras\n",
    "from keras.layers import Dense, Conv2D, BatchNormalization, Flatten\n",
    "from sklearn.linear_model import LogisticRegression\n",
    "\n",
    "import pandas as pd\n",
    "from sklearn import metrics\n",
    "import matplotlib.pyplot as plt\n",
    "import seaborn as sns\n",
    "\n",
    "from IPython.display import SVG\n",
    "from keras.utils.vis_utils import model_to_dot\n",
    "\n",
    "%matplotlib inline"
   ]
  },
  {
   "cell_type": "markdown",
   "metadata": {},
   "source": [
    "# Convolutional Neural Networks\n",
    "\n",
    "A convolutional neural network takes the idea of a basic NN further, constraining each $W$ to be convolutions. Convolutions are linear functions, so they can be represented in this form, but they require fewer parameters than other methods, as weights can be shared across the whole image, with each filter serving as a global detector of a pattern. The model I chose can be viewed below, but essentially there are several sets of convolutions, and to decrease the dimensionality of the outputs, I use strided convolutions. This model (with no 1x1 convolutions) has about 1.25 million learnable parameters, which is much more than logistic regression's $785\\cdot 10 = 7850$ parameters, and also is an indicator that the model probably has the capacity to overfit significantly. Most of these parameters come from the first fully connected layer, which has 768 outputs and 500-1500 inputs, which instantly adds many learnable parameters. We can see removing this layer and including 1x1 convolutions before each conv layer, which results in about 25000 learnable parameters, and much lower model capacity. Interestingly, even with these few parameters, the model still overfits.\n",
    "\n",
    "After a few epochs of training, this reaches about 98-99 percent test accuracy, which is significantly better than logistic regression. State of the art classifiers on MNIST typically achieve about 99.5% accuracy, which is near the bayes error rate on this dataset."
   ]
  },
  {
   "cell_type": "code",
   "execution_count": 10,
   "metadata": {},
   "outputs": [],
   "source": [
    "(x_train, y_train_orig), (x_test, y_test_orig) = mnist.load_data()\n",
    "x_train = x_train[..., None] / 255.0\n",
    "x_test = x_test[..., None] / 255.0\n",
    "y_train = keras.utils.to_categorical(y_train_orig)\n",
    "y_test = keras.utils.to_categorical(y_test_orig)"
   ]
  },
  {
   "cell_type": "code",
   "execution_count": 62,
   "metadata": {},
   "outputs": [],
   "source": [
    "np.random.seed(1151998)\n",
    "model = keras.models.Sequential()\n",
    "model.add(Conv2D(32, (3,3), padding='same', input_shape=(28, 28, 1), activation='relu'))\n",
    "model.add(Conv2D(16, (1,1), activation='relu'))\n",
    "model.add(Conv2D(64, (3,3), strides=(2,2), padding='same', activation='relu'))\n",
    "model.add(Conv2D(16, (1,1), activation='relu'))\n",
    "model.add(Conv2D(32, (3,3), strides=(2,2), padding='same', activation='relu'))\n",
    "model.add(Conv2D(16, (1,1), activation='relu'))\n",
    "model.add(Flatten())\n",
    "# model.add(Dense(768, activation='relu'))\n",
    "model.add(Dense(10, activation='softmax'))\n",
    "model.compile(keras.optimizers.Adam(), keras.losses.categorical_crossentropy,\n",
    "             metrics=['accuracy'])"
   ]
  },
  {
   "cell_type": "code",
   "execution_count": 39,
   "metadata": {},
   "outputs": [
    {
     "name": "stdout",
     "output_type": "stream",
     "text": [
      "24186 learnable parameters\n"
     ]
    }
   ],
   "source": [
    "print('%d learnable parameters'%model.count_params())"
   ]
  },
  {
   "cell_type": "code",
   "execution_count": 33,
   "metadata": {},
   "outputs": [
    {
     "data": {
      "image/svg+xml": [
       "<svg height=\"782pt\" viewBox=\"0.00 0.00 358.89 782.00\" width=\"359pt\" xmlns=\"http://www.w3.org/2000/svg\" xmlns:xlink=\"http://www.w3.org/1999/xlink\">\n",
       "<g class=\"graph\" id=\"graph0\" transform=\"scale(1 1) rotate(0) translate(4 778)\">\n",
       "<title>G</title>\n",
       "<polygon fill=\"#ffffff\" points=\"-4,4 -4,-778 354.8936,-778 354.8936,4 -4,4\" stroke=\"transparent\"/>\n",
       "<!-- 5289249760 -->\n",
       "<g class=\"node\" id=\"node1\">\n",
       "<title>5289249760</title>\n",
       "<polygon fill=\"none\" points=\"0,-729.5 0,-773.5 350.8936,-773.5 350.8936,-729.5 0,-729.5\" stroke=\"#000000\"/>\n",
       "<text fill=\"#000000\" font-family=\"Times,serif\" font-size=\"14.00\" text-anchor=\"middle\" x=\"91.7881\" y=\"-747.3\">conv2d_22_input: InputLayer</text>\n",
       "<polyline fill=\"none\" points=\"183.5762,-729.5 183.5762,-773.5 \" stroke=\"#000000\"/>\n",
       "<text fill=\"#000000\" font-family=\"Times,serif\" font-size=\"14.00\" text-anchor=\"middle\" x=\"211.4106\" y=\"-758.3\">input:</text>\n",
       "<polyline fill=\"none\" points=\"183.5762,-751.5 239.2451,-751.5 \" stroke=\"#000000\"/>\n",
       "<text fill=\"#000000\" font-family=\"Times,serif\" font-size=\"14.00\" text-anchor=\"middle\" x=\"211.4106\" y=\"-736.3\">output:</text>\n",
       "<polyline fill=\"none\" points=\"239.2451,-729.5 239.2451,-773.5 \" stroke=\"#000000\"/>\n",
       "<text fill=\"#000000\" font-family=\"Times,serif\" font-size=\"14.00\" text-anchor=\"middle\" x=\"295.0693\" y=\"-758.3\">(None, 28, 28, 1)</text>\n",
       "<polyline fill=\"none\" points=\"239.2451,-751.5 350.8936,-751.5 \" stroke=\"#000000\"/>\n",
       "<text fill=\"#000000\" font-family=\"Times,serif\" font-size=\"14.00\" text-anchor=\"middle\" x=\"295.0693\" y=\"-736.3\">(None, 28, 28, 1)</text>\n",
       "</g>\n",
       "<!-- 5289248976 -->\n",
       "<g class=\"node\" id=\"node2\">\n",
       "<title>5289248976</title>\n",
       "<polygon fill=\"none\" points=\"21.7622,-648.5 21.7622,-692.5 329.1313,-692.5 329.1313,-648.5 21.7622,-648.5\" stroke=\"#000000\"/>\n",
       "<text fill=\"#000000\" font-family=\"Times,serif\" font-size=\"14.00\" text-anchor=\"middle\" x=\"88.2881\" y=\"-666.3\">conv2d_22: Conv2D</text>\n",
       "<polyline fill=\"none\" points=\"154.814,-648.5 154.814,-692.5 \" stroke=\"#000000\"/>\n",
       "<text fill=\"#000000\" font-family=\"Times,serif\" font-size=\"14.00\" text-anchor=\"middle\" x=\"182.6484\" y=\"-677.3\">input:</text>\n",
       "<polyline fill=\"none\" points=\"154.814,-670.5 210.4829,-670.5 \" stroke=\"#000000\"/>\n",
       "<text fill=\"#000000\" font-family=\"Times,serif\" font-size=\"14.00\" text-anchor=\"middle\" x=\"182.6484\" y=\"-655.3\">output:</text>\n",
       "<polyline fill=\"none\" points=\"210.4829,-648.5 210.4829,-692.5 \" stroke=\"#000000\"/>\n",
       "<text fill=\"#000000\" font-family=\"Times,serif\" font-size=\"14.00\" text-anchor=\"middle\" x=\"269.8071\" y=\"-677.3\">(None, 28, 28, 1)</text>\n",
       "<polyline fill=\"none\" points=\"210.4829,-670.5 329.1313,-670.5 \" stroke=\"#000000\"/>\n",
       "<text fill=\"#000000\" font-family=\"Times,serif\" font-size=\"14.00\" text-anchor=\"middle\" x=\"269.8071\" y=\"-655.3\">(None, 28, 28, 32)</text>\n",
       "</g>\n",
       "<!-- 5289249760&#45;&gt;5289248976 -->\n",
       "<g class=\"edge\" id=\"edge1\">\n",
       "<title>5289249760-&gt;5289248976</title>\n",
       "<path d=\"M175.4468,-729.3664C175.4468,-721.1516 175.4468,-711.6579 175.4468,-702.7252\" fill=\"none\" stroke=\"#000000\"/>\n",
       "<polygon fill=\"#000000\" points=\"178.9469,-702.6068 175.4468,-692.6068 171.9469,-702.6069 178.9469,-702.6068\" stroke=\"#000000\"/>\n",
       "</g>\n",
       "<!-- 5292598104 -->\n",
       "<g class=\"node\" id=\"node3\">\n",
       "<title>5292598104</title>\n",
       "<polygon fill=\"none\" points=\"21.7622,-567.5 21.7622,-611.5 329.1313,-611.5 329.1313,-567.5 21.7622,-567.5\" stroke=\"#000000\"/>\n",
       "<text fill=\"#000000\" font-family=\"Times,serif\" font-size=\"14.00\" text-anchor=\"middle\" x=\"88.2881\" y=\"-585.3\">conv2d_23: Conv2D</text>\n",
       "<polyline fill=\"none\" points=\"154.814,-567.5 154.814,-611.5 \" stroke=\"#000000\"/>\n",
       "<text fill=\"#000000\" font-family=\"Times,serif\" font-size=\"14.00\" text-anchor=\"middle\" x=\"182.6484\" y=\"-596.3\">input:</text>\n",
       "<polyline fill=\"none\" points=\"154.814,-589.5 210.4829,-589.5 \" stroke=\"#000000\"/>\n",
       "<text fill=\"#000000\" font-family=\"Times,serif\" font-size=\"14.00\" text-anchor=\"middle\" x=\"182.6484\" y=\"-574.3\">output:</text>\n",
       "<polyline fill=\"none\" points=\"210.4829,-567.5 210.4829,-611.5 \" stroke=\"#000000\"/>\n",
       "<text fill=\"#000000\" font-family=\"Times,serif\" font-size=\"14.00\" text-anchor=\"middle\" x=\"269.8071\" y=\"-596.3\">(None, 28, 28, 32)</text>\n",
       "<polyline fill=\"none\" points=\"210.4829,-589.5 329.1313,-589.5 \" stroke=\"#000000\"/>\n",
       "<text fill=\"#000000\" font-family=\"Times,serif\" font-size=\"14.00\" text-anchor=\"middle\" x=\"269.8071\" y=\"-574.3\">(None, 28, 28, 16)</text>\n",
       "</g>\n",
       "<!-- 5289248976&#45;&gt;5292598104 -->\n",
       "<g class=\"edge\" id=\"edge2\">\n",
       "<title>5289248976-&gt;5292598104</title>\n",
       "<path d=\"M175.4468,-648.3664C175.4468,-640.1516 175.4468,-630.6579 175.4468,-621.7252\" fill=\"none\" stroke=\"#000000\"/>\n",
       "<polygon fill=\"#000000\" points=\"178.9469,-621.6068 175.4468,-611.6068 171.9469,-621.6069 178.9469,-621.6068\" stroke=\"#000000\"/>\n",
       "</g>\n",
       "<!-- 5292597488 -->\n",
       "<g class=\"node\" id=\"node4\">\n",
       "<title>5292597488</title>\n",
       "<polygon fill=\"none\" points=\"21.7622,-486.5 21.7622,-530.5 329.1313,-530.5 329.1313,-486.5 21.7622,-486.5\" stroke=\"#000000\"/>\n",
       "<text fill=\"#000000\" font-family=\"Times,serif\" font-size=\"14.00\" text-anchor=\"middle\" x=\"88.2881\" y=\"-504.3\">conv2d_24: Conv2D</text>\n",
       "<polyline fill=\"none\" points=\"154.814,-486.5 154.814,-530.5 \" stroke=\"#000000\"/>\n",
       "<text fill=\"#000000\" font-family=\"Times,serif\" font-size=\"14.00\" text-anchor=\"middle\" x=\"182.6484\" y=\"-515.3\">input:</text>\n",
       "<polyline fill=\"none\" points=\"154.814,-508.5 210.4829,-508.5 \" stroke=\"#000000\"/>\n",
       "<text fill=\"#000000\" font-family=\"Times,serif\" font-size=\"14.00\" text-anchor=\"middle\" x=\"182.6484\" y=\"-493.3\">output:</text>\n",
       "<polyline fill=\"none\" points=\"210.4829,-486.5 210.4829,-530.5 \" stroke=\"#000000\"/>\n",
       "<text fill=\"#000000\" font-family=\"Times,serif\" font-size=\"14.00\" text-anchor=\"middle\" x=\"269.8071\" y=\"-515.3\">(None, 28, 28, 16)</text>\n",
       "<polyline fill=\"none\" points=\"210.4829,-508.5 329.1313,-508.5 \" stroke=\"#000000\"/>\n",
       "<text fill=\"#000000\" font-family=\"Times,serif\" font-size=\"14.00\" text-anchor=\"middle\" x=\"269.8071\" y=\"-493.3\">(None, 14, 14, 64)</text>\n",
       "</g>\n",
       "<!-- 5292598104&#45;&gt;5292597488 -->\n",
       "<g class=\"edge\" id=\"edge3\">\n",
       "<title>5292598104-&gt;5292597488</title>\n",
       "<path d=\"M175.4468,-567.3664C175.4468,-559.1516 175.4468,-549.6579 175.4468,-540.7252\" fill=\"none\" stroke=\"#000000\"/>\n",
       "<polygon fill=\"#000000\" points=\"178.9469,-540.6068 175.4468,-530.6068 171.9469,-540.6069 178.9469,-540.6068\" stroke=\"#000000\"/>\n",
       "</g>\n",
       "<!-- 5733172504 -->\n",
       "<g class=\"node\" id=\"node5\">\n",
       "<title>5733172504</title>\n",
       "<polygon fill=\"none\" points=\"21.7622,-405.5 21.7622,-449.5 329.1313,-449.5 329.1313,-405.5 21.7622,-405.5\" stroke=\"#000000\"/>\n",
       "<text fill=\"#000000\" font-family=\"Times,serif\" font-size=\"14.00\" text-anchor=\"middle\" x=\"88.2881\" y=\"-423.3\">conv2d_25: Conv2D</text>\n",
       "<polyline fill=\"none\" points=\"154.814,-405.5 154.814,-449.5 \" stroke=\"#000000\"/>\n",
       "<text fill=\"#000000\" font-family=\"Times,serif\" font-size=\"14.00\" text-anchor=\"middle\" x=\"182.6484\" y=\"-434.3\">input:</text>\n",
       "<polyline fill=\"none\" points=\"154.814,-427.5 210.4829,-427.5 \" stroke=\"#000000\"/>\n",
       "<text fill=\"#000000\" font-family=\"Times,serif\" font-size=\"14.00\" text-anchor=\"middle\" x=\"182.6484\" y=\"-412.3\">output:</text>\n",
       "<polyline fill=\"none\" points=\"210.4829,-405.5 210.4829,-449.5 \" stroke=\"#000000\"/>\n",
       "<text fill=\"#000000\" font-family=\"Times,serif\" font-size=\"14.00\" text-anchor=\"middle\" x=\"269.8071\" y=\"-434.3\">(None, 14, 14, 64)</text>\n",
       "<polyline fill=\"none\" points=\"210.4829,-427.5 329.1313,-427.5 \" stroke=\"#000000\"/>\n",
       "<text fill=\"#000000\" font-family=\"Times,serif\" font-size=\"14.00\" text-anchor=\"middle\" x=\"269.8071\" y=\"-412.3\">(None, 14, 14, 16)</text>\n",
       "</g>\n",
       "<!-- 5292597488&#45;&gt;5733172504 -->\n",
       "<g class=\"edge\" id=\"edge4\">\n",
       "<title>5292597488-&gt;5733172504</title>\n",
       "<path d=\"M175.4468,-486.3664C175.4468,-478.1516 175.4468,-468.6579 175.4468,-459.7252\" fill=\"none\" stroke=\"#000000\"/>\n",
       "<polygon fill=\"#000000\" points=\"178.9469,-459.6068 175.4468,-449.6068 171.9469,-459.6069 178.9469,-459.6068\" stroke=\"#000000\"/>\n",
       "</g>\n",
       "<!-- 5289248640 -->\n",
       "<g class=\"node\" id=\"node6\">\n",
       "<title>5289248640</title>\n",
       "<polygon fill=\"none\" points=\"21.7622,-324.5 21.7622,-368.5 329.1313,-368.5 329.1313,-324.5 21.7622,-324.5\" stroke=\"#000000\"/>\n",
       "<text fill=\"#000000\" font-family=\"Times,serif\" font-size=\"14.00\" text-anchor=\"middle\" x=\"88.2881\" y=\"-342.3\">conv2d_26: Conv2D</text>\n",
       "<polyline fill=\"none\" points=\"154.814,-324.5 154.814,-368.5 \" stroke=\"#000000\"/>\n",
       "<text fill=\"#000000\" font-family=\"Times,serif\" font-size=\"14.00\" text-anchor=\"middle\" x=\"182.6484\" y=\"-353.3\">input:</text>\n",
       "<polyline fill=\"none\" points=\"154.814,-346.5 210.4829,-346.5 \" stroke=\"#000000\"/>\n",
       "<text fill=\"#000000\" font-family=\"Times,serif\" font-size=\"14.00\" text-anchor=\"middle\" x=\"182.6484\" y=\"-331.3\">output:</text>\n",
       "<polyline fill=\"none\" points=\"210.4829,-324.5 210.4829,-368.5 \" stroke=\"#000000\"/>\n",
       "<text fill=\"#000000\" font-family=\"Times,serif\" font-size=\"14.00\" text-anchor=\"middle\" x=\"269.8071\" y=\"-353.3\">(None, 14, 14, 16)</text>\n",
       "<polyline fill=\"none\" points=\"210.4829,-346.5 329.1313,-346.5 \" stroke=\"#000000\"/>\n",
       "<text fill=\"#000000\" font-family=\"Times,serif\" font-size=\"14.00\" text-anchor=\"middle\" x=\"269.8071\" y=\"-331.3\">(None, 7, 7, 32)</text>\n",
       "</g>\n",
       "<!-- 5733172504&#45;&gt;5289248640 -->\n",
       "<g class=\"edge\" id=\"edge5\">\n",
       "<title>5733172504-&gt;5289248640</title>\n",
       "<path d=\"M175.4468,-405.3664C175.4468,-397.1516 175.4468,-387.6579 175.4468,-378.7252\" fill=\"none\" stroke=\"#000000\"/>\n",
       "<polygon fill=\"#000000\" points=\"178.9469,-378.6068 175.4468,-368.6068 171.9469,-378.6069 178.9469,-378.6068\" stroke=\"#000000\"/>\n",
       "</g>\n",
       "<!-- 5289377352 -->\n",
       "<g class=\"node\" id=\"node7\">\n",
       "<title>5289377352</title>\n",
       "<polygon fill=\"none\" points=\"28.7622,-243.5 28.7622,-287.5 322.1313,-287.5 322.1313,-243.5 28.7622,-243.5\" stroke=\"#000000\"/>\n",
       "<text fill=\"#000000\" font-family=\"Times,serif\" font-size=\"14.00\" text-anchor=\"middle\" x=\"95.2881\" y=\"-261.3\">conv2d_27: Conv2D</text>\n",
       "<polyline fill=\"none\" points=\"161.814,-243.5 161.814,-287.5 \" stroke=\"#000000\"/>\n",
       "<text fill=\"#000000\" font-family=\"Times,serif\" font-size=\"14.00\" text-anchor=\"middle\" x=\"189.6484\" y=\"-272.3\">input:</text>\n",
       "<polyline fill=\"none\" points=\"161.814,-265.5 217.4829,-265.5 \" stroke=\"#000000\"/>\n",
       "<text fill=\"#000000\" font-family=\"Times,serif\" font-size=\"14.00\" text-anchor=\"middle\" x=\"189.6484\" y=\"-250.3\">output:</text>\n",
       "<polyline fill=\"none\" points=\"217.4829,-243.5 217.4829,-287.5 \" stroke=\"#000000\"/>\n",
       "<text fill=\"#000000\" font-family=\"Times,serif\" font-size=\"14.00\" text-anchor=\"middle\" x=\"269.8071\" y=\"-272.3\">(None, 7, 7, 32)</text>\n",
       "<polyline fill=\"none\" points=\"217.4829,-265.5 322.1313,-265.5 \" stroke=\"#000000\"/>\n",
       "<text fill=\"#000000\" font-family=\"Times,serif\" font-size=\"14.00\" text-anchor=\"middle\" x=\"269.8071\" y=\"-250.3\">(None, 7, 7, 16)</text>\n",
       "</g>\n",
       "<!-- 5289248640&#45;&gt;5289377352 -->\n",
       "<g class=\"edge\" id=\"edge6\">\n",
       "<title>5289248640-&gt;5289377352</title>\n",
       "<path d=\"M175.4468,-324.3664C175.4468,-316.1516 175.4468,-306.6579 175.4468,-297.7252\" fill=\"none\" stroke=\"#000000\"/>\n",
       "<polygon fill=\"#000000\" points=\"178.9469,-297.6068 175.4468,-287.6068 171.9469,-297.6069 178.9469,-297.6068\" stroke=\"#000000\"/>\n",
       "</g>\n",
       "<!-- 5289649544 -->\n",
       "<g class=\"node\" id=\"node8\">\n",
       "<title>5289649544</title>\n",
       "<polygon fill=\"none\" points=\"39.6553,-162.5 39.6553,-206.5 311.2383,-206.5 311.2383,-162.5 39.6553,-162.5\" stroke=\"#000000\"/>\n",
       "<text fill=\"#000000\" font-family=\"Times,serif\" font-size=\"14.00\" text-anchor=\"middle\" x=\"95.2881\" y=\"-180.3\">flatten_5: Flatten</text>\n",
       "<polyline fill=\"none\" points=\"150.9209,-162.5 150.9209,-206.5 \" stroke=\"#000000\"/>\n",
       "<text fill=\"#000000\" font-family=\"Times,serif\" font-size=\"14.00\" text-anchor=\"middle\" x=\"178.7554\" y=\"-191.3\">input:</text>\n",
       "<polyline fill=\"none\" points=\"150.9209,-184.5 206.5898,-184.5 \" stroke=\"#000000\"/>\n",
       "<text fill=\"#000000\" font-family=\"Times,serif\" font-size=\"14.00\" text-anchor=\"middle\" x=\"178.7554\" y=\"-169.3\">output:</text>\n",
       "<polyline fill=\"none\" points=\"206.5898,-162.5 206.5898,-206.5 \" stroke=\"#000000\"/>\n",
       "<text fill=\"#000000\" font-family=\"Times,serif\" font-size=\"14.00\" text-anchor=\"middle\" x=\"258.9141\" y=\"-191.3\">(None, 7, 7, 16)</text>\n",
       "<polyline fill=\"none\" points=\"206.5898,-184.5 311.2383,-184.5 \" stroke=\"#000000\"/>\n",
       "<text fill=\"#000000\" font-family=\"Times,serif\" font-size=\"14.00\" text-anchor=\"middle\" x=\"258.9141\" y=\"-169.3\">(None, 784)</text>\n",
       "</g>\n",
       "<!-- 5289377352&#45;&gt;5289649544 -->\n",
       "<g class=\"edge\" id=\"edge7\">\n",
       "<title>5289377352-&gt;5289649544</title>\n",
       "<path d=\"M175.4468,-243.3664C175.4468,-235.1516 175.4468,-225.6579 175.4468,-216.7252\" fill=\"none\" stroke=\"#000000\"/>\n",
       "<polygon fill=\"#000000\" points=\"178.9469,-216.6068 175.4468,-206.6068 171.9469,-216.6069 178.9469,-216.6068\" stroke=\"#000000\"/>\n",
       "</g>\n",
       "<!-- 5290134440 -->\n",
       "<g class=\"node\" id=\"node9\">\n",
       "<title>5290134440</title>\n",
       "<polygon fill=\"none\" points=\"53.6621,-81.5 53.6621,-125.5 297.2314,-125.5 297.2314,-81.5 53.6621,-81.5\" stroke=\"#000000\"/>\n",
       "<text fill=\"#000000\" font-family=\"Times,serif\" font-size=\"14.00\" text-anchor=\"middle\" x=\"105.7881\" y=\"-99.3\">dense_8: Dense</text>\n",
       "<polyline fill=\"none\" points=\"157.9141,-81.5 157.9141,-125.5 \" stroke=\"#000000\"/>\n",
       "<text fill=\"#000000\" font-family=\"Times,serif\" font-size=\"14.00\" text-anchor=\"middle\" x=\"185.7485\" y=\"-110.3\">input:</text>\n",
       "<polyline fill=\"none\" points=\"157.9141,-103.5 213.583,-103.5 \" stroke=\"#000000\"/>\n",
       "<text fill=\"#000000\" font-family=\"Times,serif\" font-size=\"14.00\" text-anchor=\"middle\" x=\"185.7485\" y=\"-88.3\">output:</text>\n",
       "<polyline fill=\"none\" points=\"213.583,-81.5 213.583,-125.5 \" stroke=\"#000000\"/>\n",
       "<text fill=\"#000000\" font-family=\"Times,serif\" font-size=\"14.00\" text-anchor=\"middle\" x=\"255.4072\" y=\"-110.3\">(None, 784)</text>\n",
       "<polyline fill=\"none\" points=\"213.583,-103.5 297.2314,-103.5 \" stroke=\"#000000\"/>\n",
       "<text fill=\"#000000\" font-family=\"Times,serif\" font-size=\"14.00\" text-anchor=\"middle\" x=\"255.4072\" y=\"-88.3\">(None, 768)</text>\n",
       "</g>\n",
       "<!-- 5289649544&#45;&gt;5290134440 -->\n",
       "<g class=\"edge\" id=\"edge8\">\n",
       "<title>5289649544-&gt;5290134440</title>\n",
       "<path d=\"M175.4468,-162.3664C175.4468,-154.1516 175.4468,-144.6579 175.4468,-135.7252\" fill=\"none\" stroke=\"#000000\"/>\n",
       "<polygon fill=\"#000000\" points=\"178.9469,-135.6068 175.4468,-125.6068 171.9469,-135.6069 178.9469,-135.6068\" stroke=\"#000000\"/>\n",
       "</g>\n",
       "<!-- 5290296768 -->\n",
       "<g class=\"node\" id=\"node10\">\n",
       "<title>5290296768</title>\n",
       "<polygon fill=\"none\" points=\"53.6621,-.5 53.6621,-44.5 297.2314,-44.5 297.2314,-.5 53.6621,-.5\" stroke=\"#000000\"/>\n",
       "<text fill=\"#000000\" font-family=\"Times,serif\" font-size=\"14.00\" text-anchor=\"middle\" x=\"105.7881\" y=\"-18.3\">dense_9: Dense</text>\n",
       "<polyline fill=\"none\" points=\"157.9141,-.5 157.9141,-44.5 \" stroke=\"#000000\"/>\n",
       "<text fill=\"#000000\" font-family=\"Times,serif\" font-size=\"14.00\" text-anchor=\"middle\" x=\"185.7485\" y=\"-29.3\">input:</text>\n",
       "<polyline fill=\"none\" points=\"157.9141,-22.5 213.583,-22.5 \" stroke=\"#000000\"/>\n",
       "<text fill=\"#000000\" font-family=\"Times,serif\" font-size=\"14.00\" text-anchor=\"middle\" x=\"185.7485\" y=\"-7.3\">output:</text>\n",
       "<polyline fill=\"none\" points=\"213.583,-.5 213.583,-44.5 \" stroke=\"#000000\"/>\n",
       "<text fill=\"#000000\" font-family=\"Times,serif\" font-size=\"14.00\" text-anchor=\"middle\" x=\"255.4072\" y=\"-29.3\">(None, 768)</text>\n",
       "<polyline fill=\"none\" points=\"213.583,-22.5 297.2314,-22.5 \" stroke=\"#000000\"/>\n",
       "<text fill=\"#000000\" font-family=\"Times,serif\" font-size=\"14.00\" text-anchor=\"middle\" x=\"255.4072\" y=\"-7.3\">(None, 10)</text>\n",
       "</g>\n",
       "<!-- 5290134440&#45;&gt;5290296768 -->\n",
       "<g class=\"edge\" id=\"edge9\">\n",
       "<title>5290134440-&gt;5290296768</title>\n",
       "<path d=\"M175.4468,-81.3664C175.4468,-73.1516 175.4468,-63.6579 175.4468,-54.7252\" fill=\"none\" stroke=\"#000000\"/>\n",
       "<polygon fill=\"#000000\" points=\"178.9469,-54.6068 175.4468,-44.6068 171.9469,-54.6069 178.9469,-54.6068\" stroke=\"#000000\"/>\n",
       "</g>\n",
       "</g>\n",
       "</svg>"
      ],
      "text/plain": [
       "<IPython.core.display.SVG object>"
      ]
     },
     "execution_count": 33,
     "metadata": {},
     "output_type": "execute_result"
    }
   ],
   "source": [
    "SVG(model_to_dot(model, show_shapes=True, rankdir='TB').create(prog='dot', format='svg'))"
   ]
  },
  {
   "cell_type": "code",
   "execution_count": null,
   "metadata": {},
   "outputs": [],
   "source": [
    "np.random.seed(1151998)\n",
    "model.fit(x_train, y_train, epochs=3)"
   ]
  },
  {
   "cell_type": "code",
   "execution_count": 63,
   "metadata": {},
   "outputs": [],
   "source": [
    "model.load_weights('./simple_cnn.h5')"
   ]
  },
  {
   "cell_type": "code",
   "execution_count": 59,
   "metadata": {},
   "outputs": [
    {
     "name": "stdout",
     "output_type": "stream",
     "text": [
      "Test loss: 0.0482, Test accuracy: 0.9845\n"
     ]
    }
   ],
   "source": [
    "print('Test loss: %.4f, Test accuracy: %.4f'%tuple(model.evaluate(x_test, y_test, verbose=0)))"
   ]
  },
  {
   "cell_type": "code",
   "execution_count": 53,
   "metadata": {},
   "outputs": [],
   "source": [
    "pred_y = model.predict(x_test)"
   ]
  },
  {
   "cell_type": "code",
   "execution_count": 54,
   "metadata": {},
   "outputs": [
    {
     "data": {
      "text/plain": [
       "Text(0.5,1,'Confusion Matrix')"
      ]
     },
     "execution_count": 54,
     "metadata": {},
     "output_type": "execute_result"
    },
    {
     "data": {
      "image/png": "[encoded data removed]",
      "text/plain": [
       "<matplotlib.figure.Figure at 0x11eec5400>"
      ]
     },
     "metadata": {},
     "output_type": "display_data"
    }
   ],
   "source": [
    "conf_mat = metrics.confusion_matrix(y_test_orig, pred_y.argmax(1))\n",
    "class_names = list(range(10))\n",
    "cm = conf_mat.astype('float') / conf_mat.sum(axis=1)[:, np.newaxis]\n",
    "df_cm = pd.DataFrame(\n",
    "    cm, index=class_names, columns=class_names, \n",
    ")\n",
    "fig = plt.figure(figsize=(7, 6))\n",
    "heatmap = sns.heatmap(df_cm, annot=conf_mat, fmt=\"d\")\n",
    "heatmap.yaxis.set_ticklabels(heatmap.yaxis.get_ticklabels(), rotation=0, ha='right')\n",
    "heatmap.xaxis.set_ticklabels(heatmap.xaxis.get_ticklabels(), rotation=45, ha='right')\n",
    "plt.ylabel('True label')\n",
    "plt.xlabel('Predicted label')\n",
    "plt.title('Confusion Matrix')"
   ]
  }
 ],
 "metadata": {
  "kernelspec": {
   "display_name": "Python 3",
   "language": "python",
   "name": "python3"
  },
  "language_info": {
   "codemirror_mode": {
    "name": "ipython",
    "version": 3
   },
   "file_extension": ".py",
   "mimetype": "text/x-python",
   "name": "python",
   "nbconvert_exporter": "python",
   "pygments_lexer": "ipython3",
   "version": "3.6.4"
  }
 },
 "nbformat": 4,
 "nbformat_minor": 2
}
