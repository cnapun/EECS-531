{
 "cells": [
  {
   "cell_type": "code",
   "execution_count": 16,
   "metadata": {},
   "outputs": [],
   "source": [
    "import numpy as np\n",
    "from keras.datasets import mnist\n",
    "import keras\n",
    "from keras.layers import Dense, Conv2D, BatchNormalization, Flatten\n",
    "from sklearn.linear_model import LogisticRegression\n",
    "\n",
    "import pandas as pd\n",
    "from sklearn import metrics\n",
    "import matplotlib.pyplot as plt\n",
    "import seaborn as sns\n",
    "\n",
    "from IPython.display import SVG\n",
    "from keras.utils.vis_utils import model_to_dot\n",
    "\n",
    "%matplotlib inline"
   ]
  },
  {
   "cell_type": "markdown",
   "metadata": {},
   "source": [
    "# Convolutional Neural Networks\n",
    "A Convolutional Neural Network (CNN) is a type of constrained neural network, and neural networks are extensions of logistic regression in a sense. The idea is that a linear function is too weak to capture the complexities of the data, so we should use some sort of nonlinear function. This can be done by taking $u = g(W_2 g(W_1x))$, for example, which would be a two-layer neural network. If $g$ is a nonlinear function, then $u$ can be a nonlinear function of $x$. In addition, if $g$ is differentiable most places, then we can use the chain rule to find $\\frac{du}{dW_1}$ and $\\frac{du}{dW_2}$. We can also compute $\\frac{dL}{du}$ by the chain rule, so then we have $\\frac{dL}{dW_1} = \\frac{dL}{du} \\frac{du}{dW_1}$ by the chain rule (up to a transpose maybe), so we can perform gradient descent here. Although this is a nonconvex function, in practice, gradient descent with a momentum term tends to be fairly effective, and $g$ is often taken to be something like $g(x)=\\max(0, x)$, which is a.e. differentiable.\n",
    "\n",
    "A convolutional neural network takes this a step further, constraining these $W$ to be convolutions. Convolutions are linear functions, so they can be represented in this form, but they require fewer parameters than other methods, as weights can be shared across the whole image, with each filter serving as a global detector of a pattern. The model I chose can be viewed below, but essentially there are several sets of convolutions, and to decrease the dimensionality of the outputs, I use strided convolutions. This model has about 1.25 million learnable parameters, which is much more than logistic regression's $785\\cdot 10 = 7850$ parameters, and also is an indicator that the model probably has the capacity to overfit. In general, it is desirable to have models with fewer parameters.\n",
    "\n",
    "After a few epochs of training, this reaches about 98-99 percent test accuracy, which is significantly better than logistic regression. State of the art classifiers on MNIST typically achieve about 99.5% accuracy, which could be an indication that they achieve the bayes error rate (or thereabouts)."
   ]
  },
  {
   "cell_type": "code",
   "execution_count": 10,
   "metadata": {},
   "outputs": [],
   "source": [
    "(x_train, y_train_orig), (x_test, y_test_orig) = mnist.load_data()\n",
    "x_train = x_train[..., None] / 255.0\n",
    "x_test = x_test[..., None] / 255.0\n",
    "y_train = keras.utils.to_categorical(y_train_orig)\n",
    "y_test = keras.utils.to_categorical(y_test_orig)"
   ]
  },
  {
   "cell_type": "code",
   "execution_count": 3,
   "metadata": {},
   "outputs": [],
   "source": [
    "np.random.seed(1151998)\n",
    "model = keras.models.Sequential()\n",
    "model.add(Conv2D(32, (3,3), padding='same', input_shape=(28, 28, 1), activation='relu'))\n",
    "model.add(Conv2D(64, (3,3), strides=(2,2), padding='same', activation='relu'))\n",
    "model.add(Conv2D(32, (3,3), strides=(2,2), padding='same', activation='relu'))\n",
    "model.add(Flatten())\n",
    "model.add(Dense(768, activation='relu'))\n",
    "model.add(Dense(10, activation='softmax'))\n",
    "model.compile(keras.optimizers.Adam(), keras.losses.categorical_crossentropy,\n",
    "             metrics=['accuracy'])"
   ]
  },
  {
   "cell_type": "code",
   "execution_count": 24,
   "metadata": {},
   "outputs": [
    {
     "name": "stdout",
     "output_type": "stream",
     "text": [
      "1249962 learnable parameters\n"
     ]
    }
   ],
   "source": [
    "print('%d learnable parameters'%model.count_params())"
   ]
  },
  {
   "cell_type": "code",
   "execution_count": 23,
   "metadata": {},
   "outputs": [
    {
     "data": {
      "image/svg+xml": [
       "<svg height=\"539pt\" viewBox=\"0.00 0.00 351.89 539.00\" width=\"352pt\" xmlns=\"http://www.w3.org/2000/svg\" xmlns:xlink=\"http://www.w3.org/1999/xlink\">\n",
       "<g class=\"graph\" id=\"graph0\" transform=\"scale(1 1) rotate(0) translate(4 535)\">\n",
       "<title>G</title>\n",
       "<polygon fill=\"#ffffff\" points=\"-4,4 -4,-535 347.8936,-535 347.8936,4 -4,4\" stroke=\"transparent\"/>\n",
       "<!-- 4783330752 -->\n",
       "<g class=\"node\" id=\"node1\">\n",
       "<title>4783330752</title>\n",
       "<polygon fill=\"none\" points=\"0,-486.5 0,-530.5 343.8936,-530.5 343.8936,-486.5 0,-486.5\" stroke=\"#000000\"/>\n",
       "<text fill=\"#000000\" font-family=\"Times,serif\" font-size=\"14.00\" text-anchor=\"middle\" x=\"88.2881\" y=\"-504.3\">conv2d_1_input: InputLayer</text>\n",
       "<polyline fill=\"none\" points=\"176.5762,-486.5 176.5762,-530.5 \" stroke=\"#000000\"/>\n",
       "<text fill=\"#000000\" font-family=\"Times,serif\" font-size=\"14.00\" text-anchor=\"middle\" x=\"204.4106\" y=\"-515.3\">input:</text>\n",
       "<polyline fill=\"none\" points=\"176.5762,-508.5 232.2451,-508.5 \" stroke=\"#000000\"/>\n",
       "<text fill=\"#000000\" font-family=\"Times,serif\" font-size=\"14.00\" text-anchor=\"middle\" x=\"204.4106\" y=\"-493.3\">output:</text>\n",
       "<polyline fill=\"none\" points=\"232.2451,-486.5 232.2451,-530.5 \" stroke=\"#000000\"/>\n",
       "<text fill=\"#000000\" font-family=\"Times,serif\" font-size=\"14.00\" text-anchor=\"middle\" x=\"288.0693\" y=\"-515.3\">(None, 28, 28, 1)</text>\n",
       "<polyline fill=\"none\" points=\"232.2451,-508.5 343.8936,-508.5 \" stroke=\"#000000\"/>\n",
       "<text fill=\"#000000\" font-family=\"Times,serif\" font-size=\"14.00\" text-anchor=\"middle\" x=\"288.0693\" y=\"-493.3\">(None, 28, 28, 1)</text>\n",
       "</g>\n",
       "<!-- 4783330416 -->\n",
       "<g class=\"node\" id=\"node2\">\n",
       "<title>4783330416</title>\n",
       "<polygon fill=\"none\" points=\"21.7622,-405.5 21.7622,-449.5 322.1313,-449.5 322.1313,-405.5 21.7622,-405.5\" stroke=\"#000000\"/>\n",
       "<text fill=\"#000000\" font-family=\"Times,serif\" font-size=\"14.00\" text-anchor=\"middle\" x=\"84.7881\" y=\"-423.3\">conv2d_1: Conv2D</text>\n",
       "<polyline fill=\"none\" points=\"147.814,-405.5 147.814,-449.5 \" stroke=\"#000000\"/>\n",
       "<text fill=\"#000000\" font-family=\"Times,serif\" font-size=\"14.00\" text-anchor=\"middle\" x=\"175.6484\" y=\"-434.3\">input:</text>\n",
       "<polyline fill=\"none\" points=\"147.814,-427.5 203.4829,-427.5 \" stroke=\"#000000\"/>\n",
       "<text fill=\"#000000\" font-family=\"Times,serif\" font-size=\"14.00\" text-anchor=\"middle\" x=\"175.6484\" y=\"-412.3\">output:</text>\n",
       "<polyline fill=\"none\" points=\"203.4829,-405.5 203.4829,-449.5 \" stroke=\"#000000\"/>\n",
       "<text fill=\"#000000\" font-family=\"Times,serif\" font-size=\"14.00\" text-anchor=\"middle\" x=\"262.8071\" y=\"-434.3\">(None, 28, 28, 1)</text>\n",
       "<polyline fill=\"none\" points=\"203.4829,-427.5 322.1313,-427.5 \" stroke=\"#000000\"/>\n",
       "<text fill=\"#000000\" font-family=\"Times,serif\" font-size=\"14.00\" text-anchor=\"middle\" x=\"262.8071\" y=\"-412.3\">(None, 28, 28, 32)</text>\n",
       "</g>\n",
       "<!-- 4783330752&#45;&gt;4783330416 -->\n",
       "<g class=\"edge\" id=\"edge1\">\n",
       "<title>4783330752-&gt;4783330416</title>\n",
       "<path d=\"M171.9468,-486.3664C171.9468,-478.1516 171.9468,-468.6579 171.9468,-459.7252\" fill=\"none\" stroke=\"#000000\"/>\n",
       "<polygon fill=\"#000000\" points=\"175.4469,-459.6068 171.9468,-449.6068 168.4469,-459.6069 175.4469,-459.6068\" stroke=\"#000000\"/>\n",
       "</g>\n",
       "<!-- 4781146464 -->\n",
       "<g class=\"node\" id=\"node3\">\n",
       "<title>4781146464</title>\n",
       "<polygon fill=\"none\" points=\"21.7622,-324.5 21.7622,-368.5 322.1313,-368.5 322.1313,-324.5 21.7622,-324.5\" stroke=\"#000000\"/>\n",
       "<text fill=\"#000000\" font-family=\"Times,serif\" font-size=\"14.00\" text-anchor=\"middle\" x=\"84.7881\" y=\"-342.3\">conv2d_2: Conv2D</text>\n",
       "<polyline fill=\"none\" points=\"147.814,-324.5 147.814,-368.5 \" stroke=\"#000000\"/>\n",
       "<text fill=\"#000000\" font-family=\"Times,serif\" font-size=\"14.00\" text-anchor=\"middle\" x=\"175.6484\" y=\"-353.3\">input:</text>\n",
       "<polyline fill=\"none\" points=\"147.814,-346.5 203.4829,-346.5 \" stroke=\"#000000\"/>\n",
       "<text fill=\"#000000\" font-family=\"Times,serif\" font-size=\"14.00\" text-anchor=\"middle\" x=\"175.6484\" y=\"-331.3\">output:</text>\n",
       "<polyline fill=\"none\" points=\"203.4829,-324.5 203.4829,-368.5 \" stroke=\"#000000\"/>\n",
       "<text fill=\"#000000\" font-family=\"Times,serif\" font-size=\"14.00\" text-anchor=\"middle\" x=\"262.8071\" y=\"-353.3\">(None, 28, 28, 32)</text>\n",
       "<polyline fill=\"none\" points=\"203.4829,-346.5 322.1313,-346.5 \" stroke=\"#000000\"/>\n",
       "<text fill=\"#000000\" font-family=\"Times,serif\" font-size=\"14.00\" text-anchor=\"middle\" x=\"262.8071\" y=\"-331.3\">(None, 14, 14, 64)</text>\n",
       "</g>\n",
       "<!-- 4783330416&#45;&gt;4781146464 -->\n",
       "<g class=\"edge\" id=\"edge2\">\n",
       "<title>4783330416-&gt;4781146464</title>\n",
       "<path d=\"M171.9468,-405.3664C171.9468,-397.1516 171.9468,-387.6579 171.9468,-378.7252\" fill=\"none\" stroke=\"#000000\"/>\n",
       "<polygon fill=\"#000000\" points=\"175.4469,-378.6068 171.9468,-368.6068 168.4469,-378.6069 175.4469,-378.6068\" stroke=\"#000000\"/>\n",
       "</g>\n",
       "<!-- 4830625408 -->\n",
       "<g class=\"node\" id=\"node4\">\n",
       "<title>4830625408</title>\n",
       "<polygon fill=\"none\" points=\"21.7622,-243.5 21.7622,-287.5 322.1313,-287.5 322.1313,-243.5 21.7622,-243.5\" stroke=\"#000000\"/>\n",
       "<text fill=\"#000000\" font-family=\"Times,serif\" font-size=\"14.00\" text-anchor=\"middle\" x=\"84.7881\" y=\"-261.3\">conv2d_3: Conv2D</text>\n",
       "<polyline fill=\"none\" points=\"147.814,-243.5 147.814,-287.5 \" stroke=\"#000000\"/>\n",
       "<text fill=\"#000000\" font-family=\"Times,serif\" font-size=\"14.00\" text-anchor=\"middle\" x=\"175.6484\" y=\"-272.3\">input:</text>\n",
       "<polyline fill=\"none\" points=\"147.814,-265.5 203.4829,-265.5 \" stroke=\"#000000\"/>\n",
       "<text fill=\"#000000\" font-family=\"Times,serif\" font-size=\"14.00\" text-anchor=\"middle\" x=\"175.6484\" y=\"-250.3\">output:</text>\n",
       "<polyline fill=\"none\" points=\"203.4829,-243.5 203.4829,-287.5 \" stroke=\"#000000\"/>\n",
       "<text fill=\"#000000\" font-family=\"Times,serif\" font-size=\"14.00\" text-anchor=\"middle\" x=\"262.8071\" y=\"-272.3\">(None, 14, 14, 64)</text>\n",
       "<polyline fill=\"none\" points=\"203.4829,-265.5 322.1313,-265.5 \" stroke=\"#000000\"/>\n",
       "<text fill=\"#000000\" font-family=\"Times,serif\" font-size=\"14.00\" text-anchor=\"middle\" x=\"262.8071\" y=\"-250.3\">(None, 7, 7, 32)</text>\n",
       "</g>\n",
       "<!-- 4781146464&#45;&gt;4830625408 -->\n",
       "<g class=\"edge\" id=\"edge3\">\n",
       "<title>4781146464-&gt;4830625408</title>\n",
       "<path d=\"M171.9468,-324.3664C171.9468,-316.1516 171.9468,-306.6579 171.9468,-297.7252\" fill=\"none\" stroke=\"#000000\"/>\n",
       "<polygon fill=\"#000000\" points=\"175.4469,-297.6068 171.9468,-287.6068 168.4469,-297.6069 175.4469,-297.6068\" stroke=\"#000000\"/>\n",
       "</g>\n",
       "<!-- 4830623392 -->\n",
       "<g class=\"node\" id=\"node5\">\n",
       "<title>4830623392</title>\n",
       "<polygon fill=\"none\" points=\"36.1553,-162.5 36.1553,-206.5 307.7383,-206.5 307.7383,-162.5 36.1553,-162.5\" stroke=\"#000000\"/>\n",
       "<text fill=\"#000000\" font-family=\"Times,serif\" font-size=\"14.00\" text-anchor=\"middle\" x=\"91.7881\" y=\"-180.3\">flatten_1: Flatten</text>\n",
       "<polyline fill=\"none\" points=\"147.4209,-162.5 147.4209,-206.5 \" stroke=\"#000000\"/>\n",
       "<text fill=\"#000000\" font-family=\"Times,serif\" font-size=\"14.00\" text-anchor=\"middle\" x=\"175.2554\" y=\"-191.3\">input:</text>\n",
       "<polyline fill=\"none\" points=\"147.4209,-184.5 203.0898,-184.5 \" stroke=\"#000000\"/>\n",
       "<text fill=\"#000000\" font-family=\"Times,serif\" font-size=\"14.00\" text-anchor=\"middle\" x=\"175.2554\" y=\"-169.3\">output:</text>\n",
       "<polyline fill=\"none\" points=\"203.0898,-162.5 203.0898,-206.5 \" stroke=\"#000000\"/>\n",
       "<text fill=\"#000000\" font-family=\"Times,serif\" font-size=\"14.00\" text-anchor=\"middle\" x=\"255.4141\" y=\"-191.3\">(None, 7, 7, 32)</text>\n",
       "<polyline fill=\"none\" points=\"203.0898,-184.5 307.7383,-184.5 \" stroke=\"#000000\"/>\n",
       "<text fill=\"#000000\" font-family=\"Times,serif\" font-size=\"14.00\" text-anchor=\"middle\" x=\"255.4141\" y=\"-169.3\">(None, 1568)</text>\n",
       "</g>\n",
       "<!-- 4830625408&#45;&gt;4830623392 -->\n",
       "<g class=\"edge\" id=\"edge4\">\n",
       "<title>4830625408-&gt;4830623392</title>\n",
       "<path d=\"M171.9468,-243.3664C171.9468,-235.1516 171.9468,-225.6579 171.9468,-216.7252\" fill=\"none\" stroke=\"#000000\"/>\n",
       "<polygon fill=\"#000000\" points=\"175.4469,-216.6068 171.9468,-206.6068 168.4469,-216.6069 175.4469,-216.6068\" stroke=\"#000000\"/>\n",
       "</g>\n",
       "<!-- 5278327808 -->\n",
       "<g class=\"node\" id=\"node6\">\n",
       "<title>5278327808</title>\n",
       "<polygon fill=\"none\" points=\"46.6621,-81.5 46.6621,-125.5 297.2314,-125.5 297.2314,-81.5 46.6621,-81.5\" stroke=\"#000000\"/>\n",
       "<text fill=\"#000000\" font-family=\"Times,serif\" font-size=\"14.00\" text-anchor=\"middle\" x=\"98.7881\" y=\"-99.3\">dense_1: Dense</text>\n",
       "<polyline fill=\"none\" points=\"150.9141,-81.5 150.9141,-125.5 \" stroke=\"#000000\"/>\n",
       "<text fill=\"#000000\" font-family=\"Times,serif\" font-size=\"14.00\" text-anchor=\"middle\" x=\"178.7485\" y=\"-110.3\">input:</text>\n",
       "<polyline fill=\"none\" points=\"150.9141,-103.5 206.583,-103.5 \" stroke=\"#000000\"/>\n",
       "<text fill=\"#000000\" font-family=\"Times,serif\" font-size=\"14.00\" text-anchor=\"middle\" x=\"178.7485\" y=\"-88.3\">output:</text>\n",
       "<polyline fill=\"none\" points=\"206.583,-81.5 206.583,-125.5 \" stroke=\"#000000\"/>\n",
       "<text fill=\"#000000\" font-family=\"Times,serif\" font-size=\"14.00\" text-anchor=\"middle\" x=\"251.9072\" y=\"-110.3\">(None, 1568)</text>\n",
       "<polyline fill=\"none\" points=\"206.583,-103.5 297.2314,-103.5 \" stroke=\"#000000\"/>\n",
       "<text fill=\"#000000\" font-family=\"Times,serif\" font-size=\"14.00\" text-anchor=\"middle\" x=\"251.9072\" y=\"-88.3\">(None, 768)</text>\n",
       "</g>\n",
       "<!-- 4830623392&#45;&gt;5278327808 -->\n",
       "<g class=\"edge\" id=\"edge5\">\n",
       "<title>4830623392-&gt;5278327808</title>\n",
       "<path d=\"M171.9468,-162.3664C171.9468,-154.1516 171.9468,-144.6579 171.9468,-135.7252\" fill=\"none\" stroke=\"#000000\"/>\n",
       "<polygon fill=\"#000000\" points=\"175.4469,-135.6068 171.9468,-125.6068 168.4469,-135.6069 175.4469,-135.6068\" stroke=\"#000000\"/>\n",
       "</g>\n",
       "<!-- 5278735888 -->\n",
       "<g class=\"node\" id=\"node7\">\n",
       "<title>5278735888</title>\n",
       "<polygon fill=\"none\" points=\"50.1621,-.5 50.1621,-44.5 293.7314,-44.5 293.7314,-.5 50.1621,-.5\" stroke=\"#000000\"/>\n",
       "<text fill=\"#000000\" font-family=\"Times,serif\" font-size=\"14.00\" text-anchor=\"middle\" x=\"102.2881\" y=\"-18.3\">dense_2: Dense</text>\n",
       "<polyline fill=\"none\" points=\"154.4141,-.5 154.4141,-44.5 \" stroke=\"#000000\"/>\n",
       "<text fill=\"#000000\" font-family=\"Times,serif\" font-size=\"14.00\" text-anchor=\"middle\" x=\"182.2485\" y=\"-29.3\">input:</text>\n",
       "<polyline fill=\"none\" points=\"154.4141,-22.5 210.083,-22.5 \" stroke=\"#000000\"/>\n",
       "<text fill=\"#000000\" font-family=\"Times,serif\" font-size=\"14.00\" text-anchor=\"middle\" x=\"182.2485\" y=\"-7.3\">output:</text>\n",
       "<polyline fill=\"none\" points=\"210.083,-.5 210.083,-44.5 \" stroke=\"#000000\"/>\n",
       "<text fill=\"#000000\" font-family=\"Times,serif\" font-size=\"14.00\" text-anchor=\"middle\" x=\"251.9072\" y=\"-29.3\">(None, 768)</text>\n",
       "<polyline fill=\"none\" points=\"210.083,-22.5 293.7314,-22.5 \" stroke=\"#000000\"/>\n",
       "<text fill=\"#000000\" font-family=\"Times,serif\" font-size=\"14.00\" text-anchor=\"middle\" x=\"251.9072\" y=\"-7.3\">(None, 10)</text>\n",
       "</g>\n",
       "<!-- 5278327808&#45;&gt;5278735888 -->\n",
       "<g class=\"edge\" id=\"edge6\">\n",
       "<title>5278327808-&gt;5278735888</title>\n",
       "<path d=\"M171.9468,-81.3664C171.9468,-73.1516 171.9468,-63.6579 171.9468,-54.7252\" fill=\"none\" stroke=\"#000000\"/>\n",
       "<polygon fill=\"#000000\" points=\"175.4469,-54.6068 171.9468,-44.6068 168.4469,-54.6069 175.4469,-54.6068\" stroke=\"#000000\"/>\n",
       "</g>\n",
       "</g>\n",
       "</svg>"
      ],
      "text/plain": [
       "<IPython.core.display.SVG object>"
      ]
     },
     "execution_count": 23,
     "metadata": {},
     "output_type": "execute_result"
    }
   ],
   "source": [
    "SVG(model_to_dot(model, show_shapes=True, rankdir='TB').create(prog='dot', format='svg'))"
   ]
  },
  {
   "cell_type": "code",
   "execution_count": 6,
   "metadata": {},
   "outputs": [],
   "source": [
    "np.random.seed(1151998)\n",
    "model.fit(x_train, y_train, validation_split=0.15, epochs=2)"
   ]
  },
  {
   "cell_type": "code",
   "execution_count": 7,
   "metadata": {},
   "outputs": [],
   "source": [
    "model.load_weights('./simple_cnn.h5')"
   ]
  },
  {
   "cell_type": "code",
   "execution_count": 8,
   "metadata": {},
   "outputs": [
    {
     "name": "stdout",
     "output_type": "stream",
     "text": [
      "10000/10000 [==============================] - 3s 299us/step\n"
     ]
    },
    {
     "data": {
      "text/plain": [
       "[0.05835601056503074, 0.982]"
      ]
     },
     "execution_count": 8,
     "metadata": {},
     "output_type": "execute_result"
    }
   ],
   "source": [
    "model.evaluate(x_test, y_test)"
   ]
  },
  {
   "cell_type": "code",
   "execution_count": 12,
   "metadata": {},
   "outputs": [],
   "source": [
    "pred_y = model.predict(x_test)"
   ]
  },
  {
   "cell_type": "code",
   "execution_count": 13,
   "metadata": {},
   "outputs": [
    {
     "data": {
      "text/plain": [
       "Text(0.5,1,'Confusion Matrix')"
      ]
     },
     "execution_count": 13,
     "metadata": {},
     "output_type": "execute_result"
    },
    {
     "data": {
      "image/png": "[encoded data removed]",
      "text/plain": [
       "<matplotlib.figure.Figure at 0x13b90c7f0>"
      ]
     },
     "metadata": {},
     "output_type": "display_data"
    }
   ],
   "source": [
    "conf_mat = metrics.confusion_matrix(y_test_orig, pred_y.argmax(1))\n",
    "class_names = list(range(10))\n",
    "df_cm = pd.DataFrame(\n",
    "    conf_mat, index=class_names, columns=class_names, \n",
    ")\n",
    "fig = plt.figure(figsize=(7, 6))\n",
    "heatmap = sns.heatmap(df_cm, annot=True, fmt=\"d\")\n",
    "heatmap.yaxis.set_ticklabels(heatmap.yaxis.get_ticklabels(), rotation=0, ha='right')\n",
    "heatmap.xaxis.set_ticklabels(heatmap.xaxis.get_ticklabels(), rotation=45, ha='right')\n",
    "plt.ylabel('True label')\n",
    "plt.xlabel('Predicted label')\n",
    "plt.title('Confusion Matrix')"
   ]
  },
  {
   "cell_type": "code",
   "execution_count": null,
   "metadata": {},
   "outputs": [],
   "source": []
  }
 ],
 "metadata": {
  "kernelspec": {
   "display_name": "Python 3",
   "language": "python",
   "name": "python3"
  },
  "language_info": {
   "codemirror_mode": {
    "name": "ipython",
    "version": 3
   },
   "file_extension": ".py",
   "mimetype": "text/x-python",
   "name": "python",
   "nbconvert_exporter": "python",
   "pygments_lexer": "ipython3",
   "version": "3.6.4"
  }
 },
 "nbformat": 4,
 "nbformat_minor": 2
}
