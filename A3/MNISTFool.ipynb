{
 "cells": [
  {
   "cell_type": "code",
   "execution_count": 133,
   "metadata": {},
   "outputs": [],
   "source": [
    "import numpy as np\n",
    "from keras.datasets import mnist\n",
    "import keras\n",
    "import tensorflow as tf\n",
    "from keras import backend as K\n",
    "\n",
    "import matplotlib.pyplot as plt\n",
    "plt.gray()\n",
    "%matplotlib inline"
   ]
  },
  {
   "cell_type": "code",
   "execution_count": 225,
   "metadata": {},
   "outputs": [],
   "source": [
    "(x_train, y_train), (x_test, y_test) = mnist.load_data()\n",
    "x_train = x_train[..., None] / 255.0\n",
    "x_test = x_test[..., None] / 255.0\n",
    "ex = x_train[44] #to distort into an 8\n",
    "ex2 = x_train[1]"
   ]
  },
  {
   "cell_type": "code",
   "execution_count": 270,
   "metadata": {},
   "outputs": [
    {
     "data": {
      "text/plain": [
       "Text(0.5,1,'True Class: 3')"
      ]
     },
     "execution_count": 270,
     "metadata": {},
     "output_type": "execute_result"
    },
    {
     "data": {
      "image/png": "[encoded data removed]",
      "text/plain": [
       "<matplotlib.figure.Figure at 0x1522259b0>"
      ]
     },
     "metadata": {},
     "output_type": "display_data"
    }
   ],
   "source": [
    "plt.figure(figsize=(5, 5))\n",
    "plt.subplot(1, 1, 1)\n",
    "plt.imshow(ex.reshape(28, 28))\n",
    "plt.axis('off')\n",
    "plt.title('True Class: 3')\n",
    "\n",
    "# plt.subplot(1, 2, 2)\n",
    "# plt.imshow(ex2.reshape(28, 28))\n",
    "# plt.axis('off')\n",
    "# plt.title('True Class: 0')"
   ]
  },
  {
   "cell_type": "code",
   "execution_count": 115,
   "metadata": {},
   "outputs": [],
   "source": [
    "model = keras.models.load_model('./simple_cnn.h5')"
   ]
  },
  {
   "cell_type": "code",
   "execution_count": 116,
   "metadata": {},
   "outputs": [],
   "source": [
    "try:\n",
    "    while True:\n",
    "        tf.get_default_session().close()\n",
    "except: pass\n",
    "sess = K.get_session()\n",
    "# K.set_learning_phase(0)"
   ]
  },
  {
   "cell_type": "code",
   "execution_count": 242,
   "metadata": {},
   "outputs": [],
   "source": [
    "target_grad = np.array([0, 0, 0, 0, 0, 0, 0, 1, 0, 0,], dtype=np.float32)[None]\n",
    "target_2 = np.array([0, 0, 0, -1, 0, 0, 0, 1, 0, 0,], dtype=np.float32)[None]"
   ]
  },
  {
   "cell_type": "code",
   "execution_count": 118,
   "metadata": {},
   "outputs": [],
   "source": [
    "x = model.input\n",
    "y = model.output"
   ]
  },
  {
   "cell_type": "code",
   "execution_count": 243,
   "metadata": {},
   "outputs": [],
   "source": [
    "int_grad = tf.gradients(y, x, target_grad)\n",
    "diff_grad = tf.gradients(y, x, target_2)"
   ]
  },
  {
   "cell_type": "code",
   "execution_count": 238,
   "metadata": {},
   "outputs": [],
   "source": [
    "eps = 1e3\n",
    "ints = []\n",
    "tmp = ex.copy()[None]\n",
    "i = 0\n",
    "while i<2000 and (sess.run(y, feed_dict={x:tmp}).argmax() != 7):\n",
    "    tmp += eps*sess.run(int_grad, feed_dict={x:tmp})[0]\n",
    "    if sess.run(y, feed_dict={x:tmp})[0, 7] > 1e-4:\n",
    "        eps = 1e-1\n",
    "    tmp = np.clip(tmp, 0, 1)\n",
    "    i += 1"
   ]
  },
  {
   "cell_type": "code",
   "execution_count": 239,
   "metadata": {},
   "outputs": [
    {
     "data": {
      "text/plain": [
       "(-0.5, 27.5, 27.5, -0.5)"
      ]
     },
     "execution_count": 239,
     "metadata": {},
     "output_type": "execute_result"
    },
    {
     "data": {
      "image/png": "[encoded data removed]",
      "text/plain": [
       "<matplotlib.figure.Figure at 0x136efa390>"
      ]
     },
     "metadata": {},
     "output_type": "display_data"
    }
   ],
   "source": [
    "plt.imshow(tmp[0, ..., 0])\n",
    "plt.axis('off')"
   ]
  },
  {
   "cell_type": "code",
   "execution_count": 240,
   "metadata": {},
   "outputs": [
    {
     "data": {
      "text/plain": [
       "array([0.  , 0.  , 0.  , 0.44, 0.  , 0.  , 0.  , 0.56, 0.  , 0.  ],\n",
       "      dtype=float32)"
      ]
     },
     "execution_count": 240,
     "metadata": {},
     "output_type": "execute_result"
    }
   ],
   "source": [
    "np.round(sess.run(y, feed_dict={x:tmp})[0], 3)"
   ]
  },
  {
   "cell_type": "code",
   "execution_count": 249,
   "metadata": {},
   "outputs": [
    {
     "data": {
      "text/plain": [
       "(22, 12)"
      ]
     },
     "execution_count": 249,
     "metadata": {},
     "output_type": "execute_result"
    }
   ],
   "source": [
    "tmp"
   ]
  },
  {
   "cell_type": "code",
   "execution_count": 266,
   "metadata": {},
   "outputs": [],
   "source": [
    "eps = 1e3\n",
    "ints = []\n",
    "tmp = ex.copy()[None]\n",
    "i = 0\n",
    "while i<20 and (sess.run(y, feed_dict={x:tmp}).argmax() != 7):\n",
    "    ps = sess.run(int_grad, feed_dict={x:tmp})[0] * (tmp!=1)\n",
    "    ixx = np.unravel_index(ps.argmax(), (28, 28))\n",
    "    tmp[:, ixx[0], ixx[1]] = 1.0\n",
    "#     if sess.run(y, feed_dict={x:tmp})[0, 7] > 1e-4:\n",
    "#         eps = 1e-1\n",
    "#     tmp = np.clip(tmp, 0, 1)\n",
    "    i += 1"
   ]
  },
  {
   "cell_type": "code",
   "execution_count": 267,
   "metadata": {},
   "outputs": [
    {
     "data": {
      "text/plain": [
       "(-0.5, 27.5, 27.5, -0.5)"
      ]
     },
     "execution_count": 267,
     "metadata": {},
     "output_type": "execute_result"
    },
    {
     "data": {
      "image/png": "[encoded data removed]",
      "text/plain": [
       "<matplotlib.figure.Figure at 0x118b2d860>"
      ]
     },
     "metadata": {},
     "output_type": "display_data"
    }
   ],
   "source": [
    "plt.imshow(tmp[0, ..., 0])\n",
    "plt.axis('off')"
   ]
  },
  {
   "cell_type": "code",
   "execution_count": 265,
   "metadata": {},
   "outputs": [
    {
     "data": {
      "text/plain": [
       "array([0.   , 0.   , 0.002, 0.411, 0.   , 0.   , 0.   , 0.566, 0.022,\n",
       "       0.   ], dtype=float32)"
      ]
     },
     "execution_count": 265,
     "metadata": {},
     "output_type": "execute_result"
    }
   ],
   "source": [
    "np.round(sess.run(y, feed_dict={x:tmp})[0], 3)"
   ]
  },
  {
   "cell_type": "code",
   "execution_count": null,
   "metadata": {},
   "outputs": [],
   "source": []
  }
 ],
 "metadata": {
  "kernelspec": {
   "display_name": "Python 3",
   "language": "python",
   "name": "python3"
  },
  "language_info": {
   "codemirror_mode": {
    "name": "ipython",
    "version": 3
   },
   "file_extension": ".py",
   "mimetype": "text/x-python",
   "name": "python",
   "nbconvert_exporter": "python",
   "pygments_lexer": "ipython3",
   "version": "3.6.4"
  }
 },
 "nbformat": 4,
 "nbformat_minor": 2
}
