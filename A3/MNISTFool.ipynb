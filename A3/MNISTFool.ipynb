{
 "cells": [
  {
   "cell_type": "code",
   "execution_count": 133,
   "metadata": {},
   "outputs": [],
   "source": [
    "import numpy as np\n",
    "from keras.datasets import mnist\n",
    "import keras\n",
    "import tensorflow as tf\n",
    "from keras import backend as K\n",
    "\n",
    "import matplotlib.pyplot as plt\n",
    "plt.gray()\n",
    "%matplotlib inline"
   ]
  },
  {
   "cell_type": "markdown",
   "metadata": {},
   "source": [
    "# Fooling a MNIST Classifier\n",
    "In this notebook I explore how to generate images that visually appear to be of one class, but are classified as a different class by the simple CNN trained earlier. I focus my attention to a single image, a three, and try to come up with something that appears similar, but is classified as an eight. I approach this several different ways below."
   ]
  },
  {
   "cell_type": "code",
   "execution_count": 225,
   "metadata": {},
   "outputs": [],
   "source": [
    "(x_train, y_train), (x_test, y_test) = mnist.load_data()\n",
    "x_train = x_train[..., None] / 255.0\n",
    "x_test = x_test[..., None] / 255.0\n",
    "ex = x_train[44] #to distort into an 8\n",
    "ex2 = x_train[1]"
   ]
  },
  {
   "cell_type": "code",
   "execution_count": 270,
   "metadata": {},
   "outputs": [
    {
     "data": {
      "text/plain": [
       "Text(0.5,1,'True Class: 3')"
      ]
     },
     "execution_count": 270,
     "metadata": {},
     "output_type": "execute_result"
    },
    {
     "data": {
      "image/png": "[encoded data removed]",
      "text/plain": [
       "<matplotlib.figure.Figure at 0x1522259b0>"
      ]
     },
     "metadata": {},
     "output_type": "display_data"
    }
   ],
   "source": [
    "plt.figure(figsize=(5, 5))\n",
    "plt.subplot(1, 1, 1)\n",
    "plt.imshow(ex.reshape(28, 28))\n",
    "plt.axis('off')\n",
    "plt.title('True Class: 3')\n",
    "\n",
    "# plt.subplot(1, 2, 2)\n",
    "# plt.imshow(ex2.reshape(28, 28))\n",
    "# plt.axis('off')\n",
    "# plt.title('True Class: 0')"
   ]
  },
  {
   "cell_type": "code",
   "execution_count": 115,
   "metadata": {},
   "outputs": [],
   "source": [
    "model = keras.models.load_model('./simple_cnn.h5')"
   ]
  },
  {
   "cell_type": "code",
   "execution_count": 116,
   "metadata": {},
   "outputs": [],
   "source": [
    "try:\n",
    "    while True:\n",
    "        tf.get_default_session().close()\n",
    "except: pass\n",
    "sess = K.get_session()\n",
    "# K.set_learning_phase(0)"
   ]
  },
  {
   "cell_type": "code",
   "execution_count": 118,
   "metadata": {},
   "outputs": [],
   "source": [
    "x = model.input\n",
    "y = model.output"
   ]
  },
  {
   "cell_type": "markdown",
   "metadata": {},
   "source": [
    "### Original predictions for example image (99.9999% confidence)"
   ]
  },
  {
   "cell_type": "code",
   "execution_count": 320,
   "metadata": {},
   "outputs": [
    {
     "data": {
      "text/plain": [
       "array([2.2452619e-13, 3.1456726e-10, 8.6283503e-10, 9.9999857e-01,\n",
       "       8.0937034e-14, 8.5810917e-08, 5.2202611e-13, 1.3150121e-06,\n",
       "       1.2142451e-08, 4.2050838e-09], dtype=float32)"
      ]
     },
     "execution_count": 320,
     "metadata": {},
     "output_type": "execute_result"
    }
   ],
   "source": [
    "sess.run(y, feed_dict={x:ex[None]})[0]"
   ]
  },
  {
   "cell_type": "code",
   "execution_count": 293,
   "metadata": {},
   "outputs": [],
   "source": [
    "target_grad = np.array([0, 0, 0, 0, 0, 0, 0, 1, 0, 0,], dtype=np.float32)[None]\n",
    "zeroness = np.array([1, 0, 0, 0, 0, 0, 0, 0, 0, 0,], dtype=np.float32)[None]\n",
    "target_2 = np.array([0, 0, 0, -1, 0, 0, 0, 1, 0, 0,], dtype=np.float32)[None]"
   ]
  },
  {
   "cell_type": "code",
   "execution_count": 294,
   "metadata": {},
   "outputs": [],
   "source": [
    "int_grad = tf.gradients(y, x, target_grad)\n",
    "zeroness = tf.gradients(y, x, zeroness)\n",
    "diff_grad = tf.gradients(y, x, target_2)"
   ]
  },
  {
   "cell_type": "markdown",
   "metadata": {},
   "source": [
    "## How much change is needed to be misclassified?\n",
    "Below is the simplest example of adversarial image generation. Here, I set the target class of the image to be 8, and run a forward step. Then, I run backpropagation (but do not update the weights) to get $dL/dx$, where $x$ is the input to the model, and loss is the loss measured between the predicted output of the model and the target class (8 in this case). We can then perform gradient descent on only $x$ to try to minimize the loss, meaning after each iteration, we update the image $x$ to better match the desired class. \n",
    "\n",
    "Below, we can see the results of this process. With barely any modification, an image that still very much appears to be a three is classified as an eight."
   ]
  },
  {
   "cell_type": "code",
   "execution_count": 315,
   "metadata": {},
   "outputs": [],
   "source": [
    "eps = 1e3\n",
    "ints = []\n",
    "tmp = ex.copy()[None]\n",
    "i = 0\n",
    "while i<2000 and (sess.run(y, feed_dict={x:tmp})[0, 7]<0.9):\n",
    "    tmp += eps*sess.run(int_grad, feed_dict={x:tmp})[0]\n",
    "    if sess.run(y, feed_dict={x:tmp})[0, 7] > 1e-4:\n",
    "        eps = 1e-1\n",
    "    tmp = np.clip(tmp, 0, 1)\n",
    "    i += 1"
   ]
  },
  {
   "cell_type": "code",
   "execution_count": 318,
   "metadata": {},
   "outputs": [
    {
     "data": {
      "text/plain": [
       "array([0.   , 0.   , 0.   , 0.096, 0.   , 0.   , 0.   , 0.903, 0.   ,\n",
       "       0.   ], dtype=float32)"
      ]
     },
     "execution_count": 318,
     "metadata": {},
     "output_type": "execute_result"
    }
   ],
   "source": [
    "np.round(sess.run(y, feed_dict={x:tmp})[0], 3)"
   ]
  },
  {
   "cell_type": "code",
   "execution_count": 316,
   "metadata": {},
   "outputs": [
    {
     "data": {
      "text/plain": [
       "(-0.5, 27.5, 27.5, -0.5)"
      ]
     },
     "execution_count": 316,
     "metadata": {},
     "output_type": "execute_result"
    },
    {
     "data": {
      "image/png": "[encoded data removed]",
      "text/plain": [
       "<matplotlib.figure.Figure at 0x11a495048>"
      ]
     },
     "metadata": {},
     "output_type": "display_data"
    }
   ],
   "source": [
    "plt.imshow(tmp[0, ..., 0])\n",
    "plt.axis('off')"
   ]
  },
  {
   "cell_type": "markdown",
   "metadata": {},
   "source": [
    "## What if we only set some pixels to be 1\n",
    "It would be interesting to see how the above result changes if we constrain our modifications to be setting pixels to be 1. We can see below that the example generated is classified as an eight, and looks like half of a three, and half of an eight. If we chose pixel values outside the range $[0, 1]$, we would only need to change one pixel to get a misclassification."
   ]
  },
  {
   "cell_type": "code",
   "execution_count": 272,
   "metadata": {},
   "outputs": [],
   "source": [
    "eps = 1e3\n",
    "ints = []\n",
    "tmp = ex.copy()[None]\n",
    "i = 0\n",
    "while i<20 and (sess.run(y, feed_dict={x:tmp}).argmax() != 7):\n",
    "    ps = sess.run(diff_grad, feed_dict={x:tmp})[0] * (tmp!=1)\n",
    "    ixx = np.unravel_index(ps.argmax(), (28, 28))\n",
    "    tmp[:, ixx[0], ixx[1]] = 1.0\n",
    "#     if sess.run(y, feed_dict={x:tmp})[0, 7] > 1e-4:\n",
    "#         eps = 1e-1\n",
    "#     tmp = np.clip(tmp, 0, 1)\n",
    "    i += 1"
   ]
  },
  {
   "cell_type": "code",
   "execution_count": 273,
   "metadata": {},
   "outputs": [
    {
     "data": {
      "text/plain": [
       "(-0.5, 27.5, 27.5, -0.5)"
      ]
     },
     "execution_count": 273,
     "metadata": {},
     "output_type": "execute_result"
    },
    {
     "data": {
      "image/png": "[encoded data removed]",
      "text/plain": [
       "<matplotlib.figure.Figure at 0x11937c390>"
      ]
     },
     "metadata": {},
     "output_type": "display_data"
    }
   ],
   "source": [
    "plt.imshow(tmp[0, ..., 0])\n",
    "plt.axis('off')"
   ]
  },
  {
   "cell_type": "code",
   "execution_count": 274,
   "metadata": {},
   "outputs": [
    {
     "data": {
      "text/plain": [
       "array([0.   , 0.   , 0.003, 0.328, 0.   , 0.   , 0.   , 0.614, 0.055,\n",
       "       0.   ], dtype=float32)"
      ]
     },
     "execution_count": 274,
     "metadata": {},
     "output_type": "execute_result"
    }
   ],
   "source": [
    "np.round(sess.run(y, feed_dict={x:tmp})[0], 3) # prediction probabilities for above image"
   ]
  },
  {
   "cell_type": "markdown",
   "metadata": {},
   "source": [
    "## What image could have the most \"zeroness\" possible?\n",
    "We can try to come up with something that maximizes the probability of a class like we did above, setting the gradient for $y=0$ to be 1, and propagating that through to see what the corresponding derivative $dy/dx$ is."
   ]
  },
  {
   "cell_type": "code",
   "execution_count": 311,
   "metadata": {},
   "outputs": [],
   "source": [
    "eps = 1e-1\n",
    "ints = []\n",
    "tmp = np.zeros((1, 28, 28, 1))\n",
    "i = 0\n",
    "while i<2000 and (sess.run(y, feed_dict={x:tmp})[0, 0] < 0.9999):\n",
    "    tmp += eps*sess.run(zeroness, feed_dict={x:tmp})[0]\n",
    "#     if sess.run(y, feed_dict={x:tmp})[0, 7] > 1e-4:\n",
    "#         eps = 1e-1\n",
    "    tmp = np.clip(tmp, 0, 1)\n",
    "    i += 1"
   ]
  },
  {
   "cell_type": "code",
   "execution_count": 312,
   "metadata": {},
   "outputs": [
    {
     "data": {
      "text/plain": [
       "array([1., 0., 0., 0., 0., 0., 0., 0., 0., 0.], dtype=float32)"
      ]
     },
     "execution_count": 312,
     "metadata": {},
     "output_type": "execute_result"
    }
   ],
   "source": [
    "np.round(sess.run(y, feed_dict={x:tmp})[0], 3) # prediction probabilities for above image"
   ]
  },
  {
   "cell_type": "code",
   "execution_count": 314,
   "metadata": {},
   "outputs": [
    {
     "data": {
      "text/plain": [
       "(-0.5, 27.5, 27.5, -0.5)"
      ]
     },
     "execution_count": 314,
     "metadata": {},
     "output_type": "execute_result"
    },
    {
     "data": {
      "image/png": "[encoded data removed]",
      "text/plain": [
       "<matplotlib.figure.Figure at 0x11a3556a0>"
      ]
     },
     "metadata": {},
     "output_type": "display_data"
    }
   ],
   "source": [
    "plt.imshow(tmp[0, ..., 0])\n",
    "plt.axis('off')"
   ]
  },
  {
   "cell_type": "markdown",
   "metadata": {},
   "source": [
    "This sort of looks like a zero, but not really. This indicates one of the weaknesses of neural networks; they will always output a class label, and even things that don't seem very much like an item can be classified in a category."
   ]
  }
 ],
 "metadata": {
  "kernelspec": {
   "display_name": "Python 3",
   "language": "python",
   "name": "python3"
  },
  "language_info": {
   "codemirror_mode": {
    "name": "ipython",
    "version": 3
   },
   "file_extension": ".py",
   "mimetype": "text/x-python",
   "name": "python",
   "nbconvert_exporter": "python",
   "pygments_lexer": "ipython3",
   "version": "3.6.4"
  }
 },
 "nbformat": 4,
 "nbformat_minor": 2
}
