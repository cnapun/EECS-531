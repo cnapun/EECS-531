{
 "cells": [
  {
   "cell_type": "code",
   "execution_count": 29,
   "metadata": {},
   "outputs": [],
   "source": [
    "import numpy as np\n",
    "from keras.datasets import mnist\n",
    "import keras\n",
    "from keras.layers import Dense, Conv2D, BatchNormalization, Flatten, Input, Activation, AveragePooling2D\n",
    "from keras.utils import plot_model\n",
    "from IPython.display import SVG\n",
    "from keras.utils.vis_utils import model_to_dot\n",
    "\n",
    "import pandas as pd\n",
    "from sklearn import metrics\n",
    "import matplotlib.pyplot as plt\n",
    "import seaborn as sns\n",
    "\n",
    "%matplotlib inline"
   ]
  },
  {
   "cell_type": "markdown",
   "metadata": {},
   "source": [
    "# Residual Networks\n",
    "Residual networks, or ResNets are a neural network architecture that was designed to allow for deeper networks. It has been shown that there are functions that require an exponential number of hidden units to represent in a shallow neural network, but only require a polynomial number in deeper ones. The problem that comes with deeper networks is that as gradients flow back to earlier layers, they lose information. This is why older models such as AlexNet are not very deep: a deeper network would not be able to effectively learn.\n",
    "\n",
    "ResNets alleviate this problem by introducing what are called \"Residual\", or \"skip\" connections. This corresponds to a structure that basically adds the input of a layer to its ouptut. This allows for gradient flow through the skip connections with less obfuscation from other layers, so deeper networks can still learn effectively. They also incorporate Batch Normalization, which is a technique that normalizes outputs to have zero mean and unit variance after a layer, which helps to regularize and keep training of these networks stable. ResNets have been successfully trained with up to 1000 layers, which demonstrates that they do not suffer from the same information loss problems as other types of network.\n",
    "\n",
    "I decided to implement a ResNet to try to classify MNIST, but also as a challenge to minimize the number of parameters used. This model uses about 17000 parameters, which is a little more than twice the number of logistic regression, but achieves comparable or better performance to the basic CNN I implemented before (with 1/75 the parameters). I imitated the network structure from the original paper presenting ResNets (although some of their advice is now considered moderately out of data/illogical/incorrect), but I only have residual blocks at one size as an attempt to minimize parameter count and computational cost. I create ten residual blocks that use 8 convolutions with kernel size 3. This gives a structure conv$\\to$BatchNorm$\\to$ReLU$\\to$conv$\\to$BatchNorm within each residual block, and then the output is added to the input, and passed through a ReLU. Researchers at Facebook have investigated the order of the ReLU and BatchNorm, and found that this ordering seems to be optimal with this architecture. This model can also be made more efficient (in terms of parameter counts) by using 1x1 convolutions and max-pooling instead of a fully connected last layer. It is interesting to see that we can learn quite well with this small model. An interesting future task would be to see how small of a neural network could achieve 99 percent test accuracy on MNIST."
   ]
  },
  {
   "cell_type": "code",
   "execution_count": 11,
   "metadata": {},
   "outputs": [],
   "source": [
    "(x_train, y_train_orig), (x_test, y_test_orig) = mnist.load_data()\n",
    "x_train = x_train[..., None] / 255.0\n",
    "x_test = x_test[..., None] / 255.0\n",
    "y_train = keras.utils.to_categorical(y_train_orig)\n",
    "y_test = keras.utils.to_categorical(y_test_orig)"
   ]
  },
  {
   "cell_type": "code",
   "execution_count": 30,
   "metadata": {},
   "outputs": [],
   "source": [
    "np.random.seed(1337)\n",
    "reg = None\n",
    "\n",
    "input_tensor = Input((28, 28, 1))\n",
    "h = input_tensor\n",
    "h = Conv2D(32, (3,3), padding='same', kernel_regularizer=reg)(h)\n",
    "h = BatchNormalization()(h)\n",
    "h = Activation('relu')(h)\n",
    "\n",
    "h = Conv2D(8, (3,3), strides=(2,2), padding='same', kernel_regularizer=reg)(h)\n",
    "h = BatchNormalization()(h)\n",
    "h = Activation('relu')(h)\n",
    "\n",
    "for i in range(10):\n",
    "    prev = h\n",
    "    h = Conv2D(8, (3,3), padding='same', kernel_regularizer=reg)(h)\n",
    "    h = BatchNormalization()(h)\n",
    "    h = Activation('relu')(h)\n",
    "    h = Conv2D(8, (3,3), padding='same', kernel_regularizer=reg)(h)\n",
    "    h = BatchNormalization()(h)\n",
    "    h = keras.layers.Add()([h, prev])\n",
    "    h = Activation('relu')(h)\n",
    "\n",
    "h = Conv2D(32, (3,3), strides=(2,2), padding='same', kernel_regularizer=reg)(h)\n",
    "h = BatchNormalization()(h)\n",
    "h = Activation('relu')(h)\n",
    "h = Conv2D(10, (1,1), kernel_regularizer=reg)(h)\n",
    "h = BatchNormalization()(h)\n",
    "h = Activation('relu')(h)\n",
    "h = AveragePooling2D((7,7))(h)\n",
    "h = Flatten()(h)\n",
    "\n",
    "h = Activation('softmax')(h)\n",
    "model = keras.Model(input_tensor, h)\n",
    "model.compile(keras.optimizers.Adam(), keras.losses.categorical_crossentropy,\n",
    "             metrics=['accuracy', ])"
   ]
  },
  {
   "cell_type": "code",
   "execution_count": 31,
   "metadata": {},
   "outputs": [
    {
     "name": "stdout",
     "output_type": "stream",
     "text": [
      "17946 learnable parameters\n"
     ]
    }
   ],
   "source": [
    "print('%d learnable parameters'%model.count_params())"
   ]
  },
  {
   "cell_type": "code",
   "execution_count": null,
   "metadata": {},
   "outputs": [],
   "source": [
    "np.random.seed(1337)\n",
    "model.fit(x_train, y_train, validation_split=0.15, epochs=12, batch_size=256) # gets about 99% test accuracy"
   ]
  },
  {
   "cell_type": "code",
   "execution_count": 36,
   "metadata": {},
   "outputs": [],
   "source": [
    "# model = keras.models.load_model('./deep_resnet_mnist_pool.h5')\n",
    "model.load_weights('./deep_resnet_mnist_pool.h5')"
   ]
  },
  {
   "cell_type": "code",
   "execution_count": 37,
   "metadata": {},
   "outputs": [
    {
     "name": "stdout",
     "output_type": "stream",
     "text": [
      "10000/10000 [==============================] - 11s 1ms/step\n"
     ]
    },
    {
     "data": {
      "text/plain": [
       "[0.020728559610946103, 0.9938]"
      ]
     },
     "execution_count": 37,
     "metadata": {},
     "output_type": "execute_result"
    }
   ],
   "source": [
    "model.evaluate(x_test, y_test)"
   ]
  },
  {
   "cell_type": "code",
   "execution_count": 9,
   "metadata": {},
   "outputs": [],
   "source": [
    "plot_model(model, )"
   ]
  },
  {
   "cell_type": "code",
   "execution_count": 38,
   "metadata": {},
   "outputs": [],
   "source": [
    "pred_y = model.predict(x_test)"
   ]
  },
  {
   "cell_type": "code",
   "execution_count": 39,
   "metadata": {},
   "outputs": [
    {
     "data": {
      "text/plain": [
       "Text(0.5,1,'Confusion Matrix')"
      ]
     },
     "execution_count": 39,
     "metadata": {},
     "output_type": "execute_result"
    },
    {
     "data": {
      "image/png": "[encoded data removed]",
      "text/plain": [
       "<matplotlib.figure.Figure at 0x1345b07b8>"
      ]
     },
     "metadata": {},
     "output_type": "display_data"
    }
   ],
   "source": [
    "conf_mat = metrics.confusion_matrix(y_test_orig, pred_y.argmax(1))\n",
    "class_names = list(range(10))\n",
    "df_cm = pd.DataFrame(\n",
    "    conf_mat, index=class_names, columns=class_names, \n",
    ")\n",
    "fig = plt.figure(figsize=(7, 6))\n",
    "heatmap = sns.heatmap(df_cm, annot=True, fmt=\"d\")\n",
    "heatmap.yaxis.set_ticklabels(heatmap.yaxis.get_ticklabels(), rotation=0, ha='right')\n",
    "heatmap.xaxis.set_ticklabels(heatmap.xaxis.get_ticklabels(), rotation=45, ha='right')\n",
    "plt.ylabel('True label')\n",
    "plt.xlabel('Predicted label')\n",
    "plt.title('Confusion Matrix')"
   ]
  },
  {
   "cell_type": "code",
   "execution_count": null,
   "metadata": {},
   "outputs": [],
   "source": []
  }
 ],
 "metadata": {
  "kernelspec": {
   "display_name": "Python 3",
   "language": "python",
   "name": "python3"
  },
  "language_info": {
   "codemirror_mode": {
    "name": "ipython",
    "version": 3
   },
   "file_extension": ".py",
   "mimetype": "text/x-python",
   "name": "python",
   "nbconvert_exporter": "python",
   "pygments_lexer": "ipython3",
   "version": "3.6.4"
  }
 },
 "nbformat": 4,
 "nbformat_minor": 2
}
