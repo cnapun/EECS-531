{
 "cells": [
  {
   "cell_type": "code",
   "execution_count": 1,
   "metadata": {
    "ExecuteTime": {
     "end_time": "2018-04-30T00:11:18.710282Z",
     "start_time": "2018-04-30T00:11:18.372523Z"
    }
   },
   "outputs": [],
   "source": [
    "import matplotlib.pyplot as plt\n",
    "from mpl_toolkits.mplot3d import Axes3D\n",
    "from mpl_toolkits.mplot3d.art3d import Poly3DCollection\n",
    "import numpy as np\n",
    "%matplotlib inline"
   ]
  },
  {
   "cell_type": "markdown",
   "metadata": {},
   "source": [
    "## Camera Model\n",
    "Nikil Pancha"
   ]
  },
  {
   "cell_type": "code",
   "execution_count": 2,
   "metadata": {
    "ExecuteTime": {
     "end_time": "2018-04-30T00:11:18.724068Z",
     "start_time": "2018-04-30T00:11:18.712752Z"
    }
   },
   "outputs": [],
   "source": [
    "points = np.mgrid[-0.5:1:0.5, -0.5:1:0.5, -0.5:1:0.5].reshape(3, -1).T\n",
    "colors = plt.cm.viridis(np.arange(len(points))/len(points))"
   ]
  },
  {
   "cell_type": "code",
   "execution_count": 3,
   "metadata": {
    "ExecuteTime": {
     "end_time": "2018-04-30T00:11:18.743581Z",
     "start_time": "2018-04-30T00:11:18.727401Z"
    }
   },
   "outputs": [],
   "source": [
    "cam1 = {\n",
    "    'position': np.array([3, -3, 2]),\n",
    "    'target': np.array([0, 0, 0]),\n",
    "    'up': np.array([0, 0, 1]),\n",
    "    'focal_length': 0.0600,\n",
    "    'film_width': 0.0350,\n",
    "    'film_height': 0.0350,\n",
    "    'width': 256,\n",
    "    'height': 256,\n",
    "}\n",
    "\n",
    "cam2 = {\n",
    "    'position': np.array([2, 3, 3]),\n",
    "    'target': np.array([0, 0, 0]),\n",
    "    'up': np.array([0, 0, 1]),\n",
    "    'focal_length': 0.0600,\n",
    "    'film_width': 0.0350,\n",
    "    'film_height': 0.0350,\n",
    "    'width': 256,\n",
    "    'height': 256,\n",
    "}"
   ]
  },
  {
   "cell_type": "code",
   "execution_count": 4,
   "metadata": {
    "ExecuteTime": {
     "end_time": "2018-04-30T00:11:18.759450Z",
     "start_time": "2018-04-30T00:11:18.746700Z"
    }
   },
   "outputs": [],
   "source": [
    "def camera_coordinate_system(cam):\n",
    "    zcam = np.array(cam['target']) - np.array(cam['position']);\n",
    "    xcam = np.cross(zcam, cam['up']);\n",
    "\n",
    "    ycam = np.cross(zcam, xcam);\n",
    "    zcam = zcam / np.linalg.norm(zcam);\n",
    "    xcam = xcam / np.linalg.norm(xcam);\n",
    "    ycam = ycam / np.linalg.norm(ycam);\n",
    "    origin = cam['position'];\n",
    "    return [xcam, ycam, zcam, origin]"
   ]
  },
  {
   "cell_type": "markdown",
   "metadata": {},
   "source": [
    "### Camera Model\n",
    "Here, we want to project points from the 3d world coordinates to a 2d image that would be what the camera would see. There are three main steps here. First, we need to translate the world coordinates of different objects into camera coordinates. This alone is a two-step process: first, we translate the coordinates so the camera is centered at the origin, and then we apply a rotation to bring the world coordinates into camera coordinates. Then, we need to determine where the image would be on the \"film.\" Finally, we need to convert the film coordinates into pixel coordinates. These steps can be represented by 4 affine transformations, so their composition can be represented by a single matrix, which is the camera matrix.\n",
    "\n",
    "#### Extrinsic Matrix\n",
    "First, let us have a point \n",
    "$$\n",
    "a = \\begin{pmatrix}U \\\\ V \\\\ W \\\\ 1\\end{pmatrix}\n",
    "$$\n",
    "where $(U,V,W)$ is the position in world coordinates, and the 1 is added on so that the affine transformations can be represented as matrices. If our camera is located at the point $(c_x, c_y, c_z)$ in world coordinates, then we want to first perform a transformations of $-c_x, -c_y, -c_z$ in the $x$, $y$, and $z$ coordinates respectively. This step can be represented by a matrix as follows:\n",
    "$$\n",
    "S = \n",
    "\\begin{pmatrix}\n",
    "1 & 0 & 0 & -c_x\\\\\n",
    "0 & 1 & 0 & -c_y\\\\\n",
    "0 & 0 & 1 & -c_z\n",
    "\\end{pmatrix}\n",
    "$$\n",
    "Next, we want to translate the axes in world coordinates to be axes in camera coordinates. We can construct the camera axes (in world coordinates) by taking cross products, so then we will get three vectors, $a_x, a_y, a_z$, which are the axes of the camera. These must be normalized, because this step is a rotation, which is a rigid transformation. If they were not unit vectors, then this would be scaling the size of objects in different directions, which is the purpose of the intrinsic matrix, not the extrinsic one.\n",
    "\n",
    "We want a transformation $R$ such that if we apply it to $a_x$, we get $(1\\;0\\;0)^T$, if we apply it to $a_y$, we get $(0\\;1\\;0)^T$, and if we apply it to $a_z$, we get $(0\\;0\\;1)^T$. Because $a_x, a_y, a_z$ are all orthonormal, if let $P=(a_x\\;a_y\\;a_z)$, then we want $RP = I$ , so $R = I P^-1 = P^T$.\n",
    "\n",
    "Composing the rotation and translation matrices (tranlation first), we get the extrinsic matrix.\n"
   ]
  },
  {
   "cell_type": "code",
   "execution_count": 5,
   "metadata": {
    "ExecuteTime": {
     "end_time": "2018-04-30T00:11:18.774180Z",
     "start_time": "2018-04-30T00:11:18.762838Z"
    }
   },
   "outputs": [],
   "source": [
    "def extrinsic_matrix(cam):\n",
    "    xcam, ycam, zcam, origin = camera_coordinate_system(cam)\n",
    "    R = np.vstack((xcam, ycam, zcam)).T\n",
    "    M = np.vstack((R, -origin @ R))\n",
    "    return M"
   ]
  },
  {
   "cell_type": "markdown",
   "metadata": {},
   "source": [
    "#### Intrinsic Matrix\n",
    "Here, we once again have two steps. First, we want to scale the image appropriately. This is based on the focal length of the lens and the width of the sensor/film. Let the focal length be $f$, the film width be $s_x$ and the film height be $s_y$. We can also say $o_x$ and $o_y$ are the offsets of the center in film coordinates from the center in pixel coordinates.\n",
    "\n",
    "If our point is $(X\\;Y\\;Z)^T$ in camera coordinates, the first step is to determine what it will become in film coordinates. This can just be thought of a problem like similar triangles: if $u,v$ is the position in pixel coordinates (up to a constant offset), then we have $u=f \\frac{X}{s_x Z}$ and $v=f \\frac{Y}{s_y Z}$. The fraction $f/Z$ corresponds to the ratio of the distance of the object to the distance of the \"film.\" This can be seen by observing that if we have a line in the image plane, the triangle formed by the endpoints of that line and the camera aperture should be similar to the triangle in the film coordinates (and the ratio of distances is $f/Z$). The film height and film width are only used to compensate for the fact that if we have film that is not square, the image would be distorted.\n",
    "\n",
    "We can then come up with a matrix to project our camera coordinate point into film coordinates:\n",
    "$$\n",
    "    P = \\begin{pmatrix}\n",
    "    f & 0 & 0\\\\\n",
    "    0 & f & 0\\\\\n",
    "    0 & 0 & 1\\\\\n",
    "    \\end{pmatrix}\n",
    "$$\n",
    "This resizes the points so that only an affine transform and then division by $Z$ is required.\n",
    "\n",
    "The final matrix is an affine transformation to scale our points to pixel coordinates, and remove warping from the sensor size.\n",
    "$$\n",
    "    A = \\begin{pmatrix}\n",
    "    1/s_x & 0 & o_y\\\\\n",
    "    0 & 1/s_y & o_x\\\\\n",
    "    0 & 0 & 1\\\\\n",
    "    \\end{pmatrix}\n",
    "$$\n",
    "Then, we can take \n",
    "$$\n",
    "    \\begin{pmatrix}\n",
    "    u'\\\\\n",
    "    v'\\\\\n",
    "    z'\\\\\n",
    "    \\end{pmatrix} = A P \\begin{pmatrix}\n",
    "    X\\\\\n",
    "    Y\\\\\n",
    "    Z\\\\\n",
    "    \\end{pmatrix}\n",
    "$$\n",
    "\n",
    "Finally, we must divide by $z'$ (or equivalently $Z$), which scales the coordinates back."
   ]
  },
  {
   "cell_type": "code",
   "execution_count": 6,
   "metadata": {
    "ExecuteTime": {
     "end_time": "2018-04-30T00:11:18.796078Z",
     "start_time": "2018-04-30T00:11:18.778075Z"
    }
   },
   "outputs": [],
   "source": [
    "def intrinsic_matrix(cam):\n",
    "    cx = (cam['width']+1) * 0.5;\n",
    "    cy = (cam['height']+1) * 0.5;\n",
    "\n",
    "    fx = cam['focal_length'] * cam['width'] / cam['film_width'];\n",
    "    fy = cam['focal_length'] * cam['height'] / cam['film_height'];\n",
    "    K = np.array([[fx, 0, 0], [0, fy, 0], [cx, cy, 1]])\n",
    "    return K\n",
    "def camera_matrix(cam):\n",
    "    return extrinsic_matrix(cam) @ intrinsic_matrix(cam)"
   ]
  },
  {
   "cell_type": "markdown",
   "metadata": {},
   "source": [
    "#### Drawing an image\n",
    "From the knowledge of how to construct the intrinsic and extrinsic matrices, we can compose them. We will apply the extrinsic matrix first to get points in camera coordinates, and then apply the intrinsic matrix, and scale by $z'$."
   ]
  },
  {
   "cell_type": "code",
   "execution_count": 7,
   "metadata": {
    "ExecuteTime": {
     "end_time": "2018-04-30T00:11:18.828183Z",
     "start_time": "2018-04-30T00:11:18.799143Z"
    }
   },
   "outputs": [],
   "source": [
    "def world_to_xy(cam, points):\n",
    "    P = camera_matrix(cam)\n",
    "    points = np.hstack((points, np.ones((len(points), 1)))) @ P\n",
    "    x = points[:, 0] / points[:, 2]\n",
    "    y = points[:, 1] / points[:, 2]\n",
    "    return np.vstack((x,y)).T\n",
    "def draw_image(centers, colors, R, imshape=(256, 256)):\n",
    "    im = np.ones((*imshape, 4))\n",
    "    for ix, (color, center) in enumerate(zip(colors, centers)):\n",
    "        for x in range(-R, R+1):\n",
    "            for y in range(-R, R+1):\n",
    "                if (x**2+y**2) <= R**2:\n",
    "                    im[int(center[0] + x), int(center[1] + y)] = color\n",
    "    return im"
   ]
  },
  {
   "cell_type": "code",
   "execution_count": 8,
   "metadata": {
    "ExecuteTime": {
     "end_time": "2018-04-30T00:11:19.167448Z",
     "start_time": "2018-04-30T00:11:18.831382Z"
    }
   },
   "outputs": [
    {
     "data": {
      "image/png": "[encoded data removed]",
      "text/plain": [
       "<matplotlib.figure.Figure at 0x1104c8588>"
      ]
     },
     "metadata": {},
     "output_type": "display_data"
    }
   ],
   "source": [
    "plt.figure(figsize=(12, 6))\n",
    "plt.subplot(121)\n",
    "plt.title('Camera 1')\n",
    "plt.imshow(draw_image(world_to_xy(cam1, points), colors, 5))\n",
    "plt.axis('off');\n",
    "plt.subplot(122)\n",
    "plt.title('Camera 2')\n",
    "plt.imshow(draw_image(world_to_xy(cam2, points), colors, 5))\n",
    "plt.axis('off');"
   ]
  }
 ],
 "metadata": {
  "kernelspec": {
   "display_name": "Python 3",
   "language": "python",
   "name": "python3"
  },
  "language_info": {
   "codemirror_mode": {
    "name": "ipython",
    "version": 3
   },
   "file_extension": ".py",
   "mimetype": "text/x-python",
   "name": "python",
   "nbconvert_exporter": "python",
   "pygments_lexer": "ipython3",
   "version": "3.6.5"
  }
 },
 "nbformat": 4,
 "nbformat_minor": 2
}
