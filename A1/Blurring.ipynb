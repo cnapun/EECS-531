{
 "cells": [
  {
   "cell_type": "code",
   "execution_count": 26,
   "metadata": {
    "collapsed": true
   },
   "outputs": [],
   "source": [
    "import math\n",
    "\n",
    "import numpy as np\n",
    "import matplotlib.pyplot as plt\n",
    "%matplotlib inline"
   ]
  },
  {
   "cell_type": "code",
   "execution_count": 115,
   "metadata": {},
   "outputs": [],
   "source": [
    "def corr_sep(im, h, v):\n",
    "    # Convolution with separable kernel (k=h v^T) of odd dimensions\n",
    "    # I am assuming symmetric boundary conditions (consistent with boundary='symm'\n",
    "    # in scipy.signal.convolve2d)\n",
    "    tmp = [[0]*len(im[0]) for _ in range(len(im))]\n",
    "    out = [[0]*len(im[0]) for _ in range(len(im))]\n",
    "    n_prev_v = len(v)/2.0\n",
    "    n_prev_h = len(h)/2.0\n",
    "    \n",
    "    # Vertical conv first, save in tmp\n",
    "    for i in range(len(im)):\n",
    "        for j in range(len(im[0])):        \n",
    "            for ix, k in enumerate(range(i-math.floor(n_prev_v), i+math.ceil(n_prev_v))):\n",
    "                if k < len(im):\n",
    "                    tmp[i][j] += im[abs(k)-(k<0)][j] * v[ix]\n",
    "                else:\n",
    "                    tmp[i][j] += im[len(im)-k-1][j] * v[ix]\n",
    "\n",
    "    # Horiziontal next, save in out\n",
    "    for i in range(len(im)):\n",
    "        for j in range(len(im[0])):        \n",
    "            for ix, k in enumerate(range(j-math.floor(n_prev_h), j+math.ceil(n_prev_h))):\n",
    "                if k < len(im[0]):\n",
    "                    out[i][j] += tmp[i][abs(k)-(k<0)] * h[ix] # double count edge\n",
    "                else:\n",
    "                    out[i][j] += tmp[i][len(im[0])-k-1] * h[ix]\n",
    "    return out\n",
    "\n",
    "def conv_gaussian(im, radius, variance):\n",
    "    k_1d = np.exp(np.arange(-radius, radius+1)**2 / (2*variance))\n",
    "    k_1d /= k_1d.sum()\n",
    "    k_1d = list(k_1d)\n",
    "    return corr_sep(im, k_1d, k_1d)"
   ]
  },
  {
   "cell_type": "code",
   "execution_count": 110,
   "metadata": {},
   "outputs": [],
   "source": [
    "np.random.seed(12094515)\n",
    "N = 100\n",
    "img = (np.random.rand(N,N)>0.85)*1.0\n",
    "l_im = list(list(i) for i in img)\n",
    "vf = np.ones(3)\n",
    "hf = np.ones(5)\n",
    "k = np.ones((3,5))"
   ]
  },
  {
   "cell_type": "code",
   "execution_count": 111,
   "metadata": {},
   "outputs": [
    {
     "data": {
      "text/plain": [
       "<matplotlib.image.AxesImage at 0x10b7725f8>"
      ]
     },
     "execution_count": 111,
     "metadata": {},
     "output_type": "execute_result"
    },
    {
     "data": {
      "image/png": "[encoded data removed]",
      "text/plain": [
       "<matplotlib.figure.Figure at 0x10b705550>"
      ]
     },
     "metadata": {},
     "output_type": "display_data"
    }
   ],
   "source": [
    "plt.imshow(img)"
   ]
  },
  {
   "cell_type": "code",
   "execution_count": 118,
   "metadata": {},
   "outputs": [],
   "source": [
    "res = np.array(conv_gaussian(img, 6, 1))"
   ]
  },
  {
   "cell_type": "code",
   "execution_count": 119,
   "metadata": {},
   "outputs": [
    {
     "data": {
      "text/plain": [
       "<matplotlib.image.AxesImage at 0x10b94d860>"
      ]
     },
     "execution_count": 119,
     "metadata": {},
     "output_type": "execute_result"
    },
    {
     "data": {
      "image/png": "[encoded data removed]",
      "text/plain": [
       "<matplotlib.figure.Figure at 0x10b7a1da0>"
      ]
     },
     "metadata": {},
     "output_type": "display_data"
    }
   ],
   "source": [
    "plt.imshow(res)"
   ]
  },
  {
   "cell_type": "code",
   "execution_count": null,
   "metadata": {
    "collapsed": true
   },
   "outputs": [],
   "source": []
  }
 ],
 "metadata": {
  "kernelspec": {
   "display_name": "Python 3",
   "language": "python",
   "name": "python3"
  },
  "language_info": {
   "codemirror_mode": {
    "name": "ipython",
    "version": 3
   },
   "file_extension": ".py",
   "mimetype": "text/x-python",
   "name": "python",
   "nbconvert_exporter": "python",
   "pygments_lexer": "ipython3",
   "version": "3.6.3"
  }
 },
 "nbformat": 4,
 "nbformat_minor": 2
}
